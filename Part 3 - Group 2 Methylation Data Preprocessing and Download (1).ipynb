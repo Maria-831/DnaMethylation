{
 "cells": [
  {
   "cell_type": "markdown",
   "metadata": {},
   "source": [
    "# I. Introduction"
   ]
  },
  {
   "cell_type": "markdown",
   "metadata": {},
   "source": [
    "In this notebook DNA Methylation data is obtained manually from GDC by searching for the selected patient using their id (submitter_id). After obtaining the data for each patient, the data is then cleaned and downloaded to further explore in notebook 4.\n"
   ]
  },
  {
   "cell_type": "markdown",
   "metadata": {},
   "source": [
    "# DNA Methylation Data Gathering Steps"
   ]
  },
  {
   "cell_type": "markdown",
   "metadata": {},
   "source": [
    "This is mostly for records keeping. I am adding it in case you wanted to see how exactly I obtained the DNA Methylation data for every patient.\n",
    "\n",
    "Steps followed to obtain DNA Methylation Data:\n",
    "\n",
    "1. Go to gdc.cancer.gov (Its where all TCGA data is stored.)\n",
    "2. Click on Lauch Data Portal.\n",
    "3. Click Accept if asked.\n",
    "4. Click on the green Projects button.\n",
    "5. Under 'Primary Site' select 'Bronchus and Lung' and under 'Program' select 'TCGA'.\n",
    "6. Click on the project name TCGA-LUAD.\n",
    "7. Click on Explore Project Data button.\n",
    "8. In the search bar on the left, enter the submitter_id of the patient. Do not hit enter.\n",
    "9. From the dropdown results, select the patient.\n",
    "10. Click on the case id.\n",
    "11. Scroll to 'File Counts by Data Category', Find 'DNA Methylation' and click on the file count (usually a 1).\n",
    "12. Click on the file name (.txt)\n",
    "13. Click on Download.\n",
    "14. Unzip, extract and save to intended folder.\n"
   ]
  },
  {
   "cell_type": "markdown",
   "metadata": {},
   "source": [
    "# Group 2: Non - Smoking Group"
   ]
  },
  {
   "cell_type": "code",
   "execution_count": 1,
   "metadata": {},
   "outputs": [],
   "source": [
    "import pandas as pd #Necessary package/s."
   ]
  },
  {
   "cell_type": "code",
   "execution_count": 2,
   "metadata": {},
   "outputs": [],
   "source": [
    "group2 = pd.read_csv(\"group2.csv\") #import data"
   ]
  },
  {
   "cell_type": "code",
   "execution_count": 3,
   "metadata": {},
   "outputs": [
    {
     "data": {
      "text/html": [
       "<div>\n",
       "<style scoped>\n",
       "    .dataframe tbody tr th:only-of-type {\n",
       "        vertical-align: middle;\n",
       "    }\n",
       "\n",
       "    .dataframe tbody tr th {\n",
       "        vertical-align: top;\n",
       "    }\n",
       "\n",
       "    .dataframe thead th {\n",
       "        text-align: right;\n",
       "    }\n",
       "</style>\n",
       "<table border=\"1\" class=\"dataframe\">\n",
       "  <thead>\n",
       "    <tr style=\"text-align: right;\">\n",
       "      <th></th>\n",
       "      <th>Unnamed: 0</th>\n",
       "      <th>submitter_id</th>\n",
       "      <th>cigarettes_per_day</th>\n",
       "      <th>alcohol_intensity</th>\n",
       "      <th>years_smoked</th>\n",
       "      <th>alcohol_history</th>\n",
       "      <th>pack_years_smoked</th>\n",
       "      <th>gender</th>\n",
       "      <th>race</th>\n",
       "      <th>vital_status</th>\n",
       "      <th>ethnicity</th>\n",
       "      <th>vital_status.1</th>\n",
       "      <th>bcr_patient_barcode</th>\n",
       "      <th>disease</th>\n",
       "    </tr>\n",
       "  </thead>\n",
       "  <tbody>\n",
       "    <tr>\n",
       "      <th>0</th>\n",
       "      <td>232</td>\n",
       "      <td>TCGA-55-8508</td>\n",
       "      <td>0.0</td>\n",
       "      <td>0.0</td>\n",
       "      <td>0.0</td>\n",
       "      <td>Not Reported</td>\n",
       "      <td>0.0</td>\n",
       "      <td>female</td>\n",
       "      <td>black or african american</td>\n",
       "      <td>Alive</td>\n",
       "      <td>not hispanic or latino</td>\n",
       "      <td>Alive</td>\n",
       "      <td>TCGA-55-8508</td>\n",
       "      <td>LUAD</td>\n",
       "    </tr>\n",
       "    <tr>\n",
       "      <th>1</th>\n",
       "      <td>54</td>\n",
       "      <td>TCGA-44-2661</td>\n",
       "      <td>0.0</td>\n",
       "      <td>0.0</td>\n",
       "      <td>0.0</td>\n",
       "      <td>Not Reported</td>\n",
       "      <td>0.0</td>\n",
       "      <td>female</td>\n",
       "      <td>white</td>\n",
       "      <td>Alive</td>\n",
       "      <td>not hispanic or latino</td>\n",
       "      <td>Alive</td>\n",
       "      <td>TCGA-44-2661</td>\n",
       "      <td>LUAD</td>\n",
       "    </tr>\n",
       "    <tr>\n",
       "      <th>2</th>\n",
       "      <td>320</td>\n",
       "      <td>TCGA-73-7499</td>\n",
       "      <td>0.0</td>\n",
       "      <td>0.0</td>\n",
       "      <td>0.0</td>\n",
       "      <td>Not Reported</td>\n",
       "      <td>0.0</td>\n",
       "      <td>female</td>\n",
       "      <td>white</td>\n",
       "      <td>Dead</td>\n",
       "      <td>not hispanic or latino</td>\n",
       "      <td>Dead</td>\n",
       "      <td>TCGA-73-7499</td>\n",
       "      <td>LUAD</td>\n",
       "    </tr>\n",
       "    <tr>\n",
       "      <th>3</th>\n",
       "      <td>401</td>\n",
       "      <td>TCGA-86-8672</td>\n",
       "      <td>0.0</td>\n",
       "      <td>0.0</td>\n",
       "      <td>0.0</td>\n",
       "      <td>Not Reported</td>\n",
       "      <td>0.0</td>\n",
       "      <td>male</td>\n",
       "      <td>white</td>\n",
       "      <td>Dead</td>\n",
       "      <td>not hispanic or latino</td>\n",
       "      <td>Dead</td>\n",
       "      <td>TCGA-86-8672</td>\n",
       "      <td>LUAD</td>\n",
       "    </tr>\n",
       "    <tr>\n",
       "      <th>4</th>\n",
       "      <td>137</td>\n",
       "      <td>TCGA-50-5930</td>\n",
       "      <td>0.0</td>\n",
       "      <td>0.0</td>\n",
       "      <td>0.0</td>\n",
       "      <td>Not Reported</td>\n",
       "      <td>0.0</td>\n",
       "      <td>male</td>\n",
       "      <td>white</td>\n",
       "      <td>Dead</td>\n",
       "      <td>not hispanic or latino</td>\n",
       "      <td>Dead</td>\n",
       "      <td>TCGA-50-5930</td>\n",
       "      <td>LUAD</td>\n",
       "    </tr>\n",
       "    <tr>\n",
       "      <th>5</th>\n",
       "      <td>202</td>\n",
       "      <td>TCGA-55-7816</td>\n",
       "      <td>0.0</td>\n",
       "      <td>0.0</td>\n",
       "      <td>0.0</td>\n",
       "      <td>Not Reported</td>\n",
       "      <td>0.0</td>\n",
       "      <td>female</td>\n",
       "      <td>white</td>\n",
       "      <td>Dead</td>\n",
       "      <td>not hispanic or latino</td>\n",
       "      <td>Dead</td>\n",
       "      <td>TCGA-55-7816</td>\n",
       "      <td>LUAD</td>\n",
       "    </tr>\n",
       "    <tr>\n",
       "      <th>6</th>\n",
       "      <td>241</td>\n",
       "      <td>TCGA-55-8619</td>\n",
       "      <td>0.0</td>\n",
       "      <td>0.0</td>\n",
       "      <td>0.0</td>\n",
       "      <td>Not Reported</td>\n",
       "      <td>0.0</td>\n",
       "      <td>female</td>\n",
       "      <td>white</td>\n",
       "      <td>Alive</td>\n",
       "      <td>not hispanic or latino</td>\n",
       "      <td>Alive</td>\n",
       "      <td>TCGA-55-8619</td>\n",
       "      <td>LUAD</td>\n",
       "    </tr>\n",
       "    <tr>\n",
       "      <th>7</th>\n",
       "      <td>417</td>\n",
       "      <td>TCGA-91-6848</td>\n",
       "      <td>0.0</td>\n",
       "      <td>0.0</td>\n",
       "      <td>0.0</td>\n",
       "      <td>Not Reported</td>\n",
       "      <td>0.0</td>\n",
       "      <td>male</td>\n",
       "      <td>white</td>\n",
       "      <td>Alive</td>\n",
       "      <td>not hispanic or latino</td>\n",
       "      <td>Alive</td>\n",
       "      <td>TCGA-91-6848</td>\n",
       "      <td>LUAD</td>\n",
       "    </tr>\n",
       "    <tr>\n",
       "      <th>8</th>\n",
       "      <td>336</td>\n",
       "      <td>TCGA-75-7030</td>\n",
       "      <td>0.0</td>\n",
       "      <td>0.0</td>\n",
       "      <td>0.0</td>\n",
       "      <td>Not Reported</td>\n",
       "      <td>0.0</td>\n",
       "      <td>male</td>\n",
       "      <td>not reported</td>\n",
       "      <td>Alive</td>\n",
       "      <td>not reported</td>\n",
       "      <td>Alive</td>\n",
       "      <td>TCGA-75-7030</td>\n",
       "      <td>LUAD</td>\n",
       "    </tr>\n",
       "    <tr>\n",
       "      <th>9</th>\n",
       "      <td>293</td>\n",
       "      <td>TCGA-69-7760</td>\n",
       "      <td>0.0</td>\n",
       "      <td>0.0</td>\n",
       "      <td>0.0</td>\n",
       "      <td>Not Reported</td>\n",
       "      <td>0.0</td>\n",
       "      <td>male</td>\n",
       "      <td>white</td>\n",
       "      <td>Alive</td>\n",
       "      <td>not hispanic or latino</td>\n",
       "      <td>Alive</td>\n",
       "      <td>TCGA-69-7760</td>\n",
       "      <td>LUAD</td>\n",
       "    </tr>\n",
       "  </tbody>\n",
       "</table>\n",
       "</div>"
      ],
      "text/plain": [
       "   Unnamed: 0  submitter_id  cigarettes_per_day  alcohol_intensity  \\\n",
       "0         232  TCGA-55-8508                 0.0                0.0   \n",
       "1          54  TCGA-44-2661                 0.0                0.0   \n",
       "2         320  TCGA-73-7499                 0.0                0.0   \n",
       "3         401  TCGA-86-8672                 0.0                0.0   \n",
       "4         137  TCGA-50-5930                 0.0                0.0   \n",
       "5         202  TCGA-55-7816                 0.0                0.0   \n",
       "6         241  TCGA-55-8619                 0.0                0.0   \n",
       "7         417  TCGA-91-6848                 0.0                0.0   \n",
       "8         336  TCGA-75-7030                 0.0                0.0   \n",
       "9         293  TCGA-69-7760                 0.0                0.0   \n",
       "\n",
       "   years_smoked alcohol_history  pack_years_smoked  gender  \\\n",
       "0           0.0    Not Reported                0.0  female   \n",
       "1           0.0    Not Reported                0.0  female   \n",
       "2           0.0    Not Reported                0.0  female   \n",
       "3           0.0    Not Reported                0.0    male   \n",
       "4           0.0    Not Reported                0.0    male   \n",
       "5           0.0    Not Reported                0.0  female   \n",
       "6           0.0    Not Reported                0.0  female   \n",
       "7           0.0    Not Reported                0.0    male   \n",
       "8           0.0    Not Reported                0.0    male   \n",
       "9           0.0    Not Reported                0.0    male   \n",
       "\n",
       "                        race vital_status               ethnicity  \\\n",
       "0  black or african american        Alive  not hispanic or latino   \n",
       "1                      white        Alive  not hispanic or latino   \n",
       "2                      white         Dead  not hispanic or latino   \n",
       "3                      white         Dead  not hispanic or latino   \n",
       "4                      white         Dead  not hispanic or latino   \n",
       "5                      white         Dead  not hispanic or latino   \n",
       "6                      white        Alive  not hispanic or latino   \n",
       "7                      white        Alive  not hispanic or latino   \n",
       "8               not reported        Alive            not reported   \n",
       "9                      white        Alive  not hispanic or latino   \n",
       "\n",
       "  vital_status.1 bcr_patient_barcode disease  \n",
       "0          Alive        TCGA-55-8508    LUAD  \n",
       "1          Alive        TCGA-44-2661    LUAD  \n",
       "2           Dead        TCGA-73-7499    LUAD  \n",
       "3           Dead        TCGA-86-8672    LUAD  \n",
       "4           Dead        TCGA-50-5930    LUAD  \n",
       "5           Dead        TCGA-55-7816    LUAD  \n",
       "6          Alive        TCGA-55-8619    LUAD  \n",
       "7          Alive        TCGA-91-6848    LUAD  \n",
       "8          Alive        TCGA-75-7030    LUAD  \n",
       "9          Alive        TCGA-69-7760    LUAD  "
      ]
     },
     "execution_count": 3,
     "metadata": {},
     "output_type": "execute_result"
    }
   ],
   "source": [
    "group2"
   ]
  },
  {
   "cell_type": "markdown",
   "metadata": {},
   "source": [
    "For every submitter_id in the group 2 dataset above, I follow the data gathering steps. They will be labeled DMG2P1 :DNA Methylation Group 2 patient 1. Patient 1 is the first one on the list therefore, DMG2P1 = TCGA-55-8508's DNA Methylation data. "
   ]
  },
  {
   "cell_type": "code",
   "execution_count": 4,
   "metadata": {},
   "outputs": [],
   "source": [
    "#Loading in all 10 patients from group 2 (non-smokers group)\n",
    "g2p1 = pd.read_csv('DMG2P1.txt',  delimiter = '\\t', encoding = 'utf-8')\n",
    "g2p2 = pd.read_csv('DMG2P2.txt',  delimiter = '\\t', encoding = 'utf-8')\n",
    "g2p3 = pd.read_csv('DMG2P3.txt',  delimiter = '\\t', encoding = 'utf-8')\n",
    "g2p4 = pd.read_csv('DMG2P4.txt',  delimiter = '\\t', encoding = 'utf-8')\n",
    "g2p5 = pd.read_csv('DMG2P5.txt',  delimiter = '\\t', encoding = 'utf-8')\n",
    "g2p6 = pd.read_csv('DMG2P6.txt',  delimiter = '\\t', encoding = 'utf-8')\n",
    "g2p7 = pd.read_csv('DMG2P7.txt',  delimiter = '\\t', encoding = 'utf-8')\n",
    "g2p8 = pd.read_csv('DMG2P8.txt',  delimiter = '\\t', encoding = 'utf-8')\n",
    "g2p9 = pd.read_csv('DMG2P9.txt',  delimiter = '\\t', encoding = 'utf-8')\n",
    "g2p10 = pd.read_csv('DMG2P10.txt',  delimiter = '\\t', encoding = 'utf-8')"
   ]
  },
  {
   "cell_type": "markdown",
   "metadata": {},
   "source": [
    "# DNA Methylation Data Cleaning\n",
    "## Group 2 - Patient 1"
   ]
  },
  {
   "cell_type": "code",
   "execution_count": 5,
   "metadata": {},
   "outputs": [
    {
     "data": {
      "text/html": [
       "<div>\n",
       "<style scoped>\n",
       "    .dataframe tbody tr th:only-of-type {\n",
       "        vertical-align: middle;\n",
       "    }\n",
       "\n",
       "    .dataframe tbody tr th {\n",
       "        vertical-align: top;\n",
       "    }\n",
       "\n",
       "    .dataframe thead th {\n",
       "        text-align: right;\n",
       "    }\n",
       "</style>\n",
       "<table border=\"1\" class=\"dataframe\">\n",
       "  <thead>\n",
       "    <tr style=\"text-align: right;\">\n",
       "      <th></th>\n",
       "      <th>Composite Element REF</th>\n",
       "      <th>Beta_value</th>\n",
       "      <th>Chromosome</th>\n",
       "      <th>Start</th>\n",
       "      <th>End</th>\n",
       "      <th>Gene_Symbol</th>\n",
       "      <th>Gene_Type</th>\n",
       "      <th>Transcript_ID</th>\n",
       "      <th>Position_to_TSS</th>\n",
       "      <th>CGI_Coordinate</th>\n",
       "      <th>Feature_Type</th>\n",
       "    </tr>\n",
       "  </thead>\n",
       "  <tbody>\n",
       "    <tr>\n",
       "      <th>0</th>\n",
       "      <td>cg00000029</td>\n",
       "      <td>0.289343</td>\n",
       "      <td>chr16</td>\n",
       "      <td>53434200</td>\n",
       "      <td>53434201</td>\n",
       "      <td>RBL2;RBL2;RBL2</td>\n",
       "      <td>protein_coding;protein_coding;protein_coding</td>\n",
       "      <td>ENST00000262133.9;ENST00000544405.5;ENST000005...</td>\n",
       "      <td>-221;-1420;222</td>\n",
       "      <td>CGI:chr16:53434489-53435297</td>\n",
       "      <td>N_Shore</td>\n",
       "    </tr>\n",
       "    <tr>\n",
       "      <th>1</th>\n",
       "      <td>cg00000108</td>\n",
       "      <td>NaN</td>\n",
       "      <td>chr3</td>\n",
       "      <td>37417715</td>\n",
       "      <td>37417716</td>\n",
       "      <td>C3orf35;C3orf35;C3orf35;C3orf35;C3orf35;C3orf3...</td>\n",
       "      <td>lincRNA;lincRNA;lincRNA;lincRNA;lincRNA;lincRN...</td>\n",
       "      <td>ENST00000328376.8;ENST00000332506.6;ENST000004...</td>\n",
       "      <td>18552;18552;6505;31445;18143;447;18552;18552</td>\n",
       "      <td>CGI:chr3:37451927-37453047</td>\n",
       "      <td>.</td>\n",
       "    </tr>\n",
       "    <tr>\n",
       "      <th>2</th>\n",
       "      <td>cg00000109</td>\n",
       "      <td>NaN</td>\n",
       "      <td>chr3</td>\n",
       "      <td>172198247</td>\n",
       "      <td>172198248</td>\n",
       "      <td>FNDC3B;FNDC3B;FNDC3B;FNDC3B;FNDC3B;FNDC3B</td>\n",
       "      <td>protein_coding;protein_coding;protein_coding;p...</td>\n",
       "      <td>ENST00000336824.7;ENST00000415807.5;ENST000004...</td>\n",
       "      <td>157692;158618;151333;71272;158587;71273</td>\n",
       "      <td>CGI:chr3:172039703-172040934</td>\n",
       "      <td>.</td>\n",
       "    </tr>\n",
       "    <tr>\n",
       "      <th>3</th>\n",
       "      <td>cg00000165</td>\n",
       "      <td>0.262197</td>\n",
       "      <td>chr1</td>\n",
       "      <td>90729117</td>\n",
       "      <td>90729118</td>\n",
       "      <td>.</td>\n",
       "      <td>.</td>\n",
       "      <td>.</td>\n",
       "      <td>.</td>\n",
       "      <td>CGI:chr1:90724932-90727247</td>\n",
       "      <td>S_Shore</td>\n",
       "    </tr>\n",
       "    <tr>\n",
       "      <th>4</th>\n",
       "      <td>cg00000236</td>\n",
       "      <td>0.812817</td>\n",
       "      <td>chr8</td>\n",
       "      <td>42405776</td>\n",
       "      <td>42405777</td>\n",
       "      <td>VDAC3</td>\n",
       "      <td>protein_coding</td>\n",
       "      <td>ENST00000022615.7</td>\n",
       "      <td>13872</td>\n",
       "      <td>CGI:chr8:42410918-42411241</td>\n",
       "      <td>.</td>\n",
       "    </tr>\n",
       "  </tbody>\n",
       "</table>\n",
       "</div>"
      ],
      "text/plain": [
       "  Composite Element REF  Beta_value Chromosome      Start        End  \\\n",
       "0            cg00000029    0.289343      chr16   53434200   53434201   \n",
       "1            cg00000108         NaN       chr3   37417715   37417716   \n",
       "2            cg00000109         NaN       chr3  172198247  172198248   \n",
       "3            cg00000165    0.262197       chr1   90729117   90729118   \n",
       "4            cg00000236    0.812817       chr8   42405776   42405777   \n",
       "\n",
       "                                         Gene_Symbol  \\\n",
       "0                                     RBL2;RBL2;RBL2   \n",
       "1  C3orf35;C3orf35;C3orf35;C3orf35;C3orf35;C3orf3...   \n",
       "2          FNDC3B;FNDC3B;FNDC3B;FNDC3B;FNDC3B;FNDC3B   \n",
       "3                                                  .   \n",
       "4                                              VDAC3   \n",
       "\n",
       "                                           Gene_Type  \\\n",
       "0       protein_coding;protein_coding;protein_coding   \n",
       "1  lincRNA;lincRNA;lincRNA;lincRNA;lincRNA;lincRN...   \n",
       "2  protein_coding;protein_coding;protein_coding;p...   \n",
       "3                                                  .   \n",
       "4                                     protein_coding   \n",
       "\n",
       "                                       Transcript_ID  \\\n",
       "0  ENST00000262133.9;ENST00000544405.5;ENST000005...   \n",
       "1  ENST00000328376.8;ENST00000332506.6;ENST000004...   \n",
       "2  ENST00000336824.7;ENST00000415807.5;ENST000004...   \n",
       "3                                                  .   \n",
       "4                                  ENST00000022615.7   \n",
       "\n",
       "                                Position_to_TSS                CGI_Coordinate  \\\n",
       "0                                -221;-1420;222   CGI:chr16:53434489-53435297   \n",
       "1  18552;18552;6505;31445;18143;447;18552;18552    CGI:chr3:37451927-37453047   \n",
       "2       157692;158618;151333;71272;158587;71273  CGI:chr3:172039703-172040934   \n",
       "3                                             .    CGI:chr1:90724932-90727247   \n",
       "4                                         13872    CGI:chr8:42410918-42411241   \n",
       "\n",
       "  Feature_Type  \n",
       "0      N_Shore  \n",
       "1            .  \n",
       "2            .  \n",
       "3      S_Shore  \n",
       "4            .  "
      ]
     },
     "execution_count": 5,
     "metadata": {},
     "output_type": "execute_result"
    }
   ],
   "source": [
    "g2p1.head()#This is what the DNA Methylation Data for this patient looks like."
   ]
  },
  {
   "cell_type": "code",
   "execution_count": 6,
   "metadata": {},
   "outputs": [
    {
     "data": {
      "text/plain": [
       "Composite Element REF        0\n",
       "Beta_value               89776\n",
       "Chromosome                   0\n",
       "Start                        0\n",
       "End                          0\n",
       "Gene_Symbol                  0\n",
       "Gene_Type                    0\n",
       "Transcript_ID                0\n",
       "Position_to_TSS              0\n",
       "CGI_Coordinate               0\n",
       "Feature_Type                 0\n",
       "dtype: int64"
      ]
     },
     "execution_count": 6,
     "metadata": {},
     "output_type": "execute_result"
    }
   ],
   "source": [
    "g2p1.isna().sum() #Lets see how much of the data is missing and for which column."
   ]
  },
  {
   "cell_type": "markdown",
   "metadata": {},
   "source": [
    "There seems to be quite a few missing values in the Beta_value column. Lets find out what percentage of the data is missing."
   ]
  },
  {
   "cell_type": "code",
   "execution_count": 7,
   "metadata": {},
   "outputs": [
    {
     "data": {
      "text/plain": [
       "485577"
      ]
     },
     "execution_count": 7,
     "metadata": {},
     "output_type": "execute_result"
    }
   ],
   "source": [
    "#Total count for Beta_value. Should be the same for all datasets.\n",
    "len(g2p1['Beta_value']) "
   ]
  },
  {
   "cell_type": "code",
   "execution_count": 8,
   "metadata": {},
   "outputs": [
    {
     "name": "stdout",
     "output_type": "stream",
     "text": [
      "18.4885198434028 %\n"
     ]
    }
   ],
   "source": [
    "print((89776 / 485577) * 100 , '%') #Percent of missing Beta_value data."
   ]
  },
  {
   "cell_type": "markdown",
   "metadata": {},
   "source": [
    "There may be a better way of handling missing values for this dataset but for now I will be removing the rows for which Beta_value is not available. Another way to handle these values would be to set them to 0, but that would not be a good idea with this type of data because it would give those rows a meaning they truly dont have. This is due to the Beta_value ranging from 0 to 1."
   ]
  },
  {
   "cell_type": "code",
   "execution_count": 9,
   "metadata": {},
   "outputs": [
    {
     "data": {
      "text/plain": [
       "Composite Element REF    0\n",
       "Beta_value               0\n",
       "Chromosome               0\n",
       "Start                    0\n",
       "End                      0\n",
       "Gene_Symbol              0\n",
       "Gene_Type                0\n",
       "Transcript_ID            0\n",
       "Position_to_TSS          0\n",
       "CGI_Coordinate           0\n",
       "Feature_Type             0\n",
       "dtype: int64"
      ]
     },
     "execution_count": 9,
     "metadata": {},
     "output_type": "execute_result"
    }
   ],
   "source": [
    "g2p1 = g2p1.dropna() #Removing rows of missing values.\n",
    "\n",
    "g2p1.isna().sum() #Checking that the data is clean and free from NAs."
   ]
  },
  {
   "cell_type": "code",
   "execution_count": 10,
   "metadata": {},
   "outputs": [
    {
     "data": {
      "text/plain": [
       "395801"
      ]
     },
     "execution_count": 10,
     "metadata": {},
     "output_type": "execute_result"
    }
   ],
   "source": [
    "#This is to make sure the values removed are the missing ones and nothing else.\n",
    "\n",
    "len(g2p1['Beta_value']) \n"
   ]
  },
  {
   "cell_type": "code",
   "execution_count": 11,
   "metadata": {},
   "outputs": [
    {
     "data": {
      "text/plain": [
       "395801"
      ]
     },
     "execution_count": 11,
     "metadata": {},
     "output_type": "execute_result"
    }
   ],
   "source": [
    "485577 - 89776 #total - missing values = properly cleaned dataset total"
   ]
  },
  {
   "cell_type": "markdown",
   "metadata": {},
   "source": [
    "Lets do the same data cleaning as above to every patient on group 2. "
   ]
  },
  {
   "cell_type": "markdown",
   "metadata": {},
   "source": [
    "## Group 2 - Patient 2"
   ]
  },
  {
   "cell_type": "code",
   "execution_count": 12,
   "metadata": {},
   "outputs": [
    {
     "data": {
      "text/html": [
       "<div>\n",
       "<style scoped>\n",
       "    .dataframe tbody tr th:only-of-type {\n",
       "        vertical-align: middle;\n",
       "    }\n",
       "\n",
       "    .dataframe tbody tr th {\n",
       "        vertical-align: top;\n",
       "    }\n",
       "\n",
       "    .dataframe thead th {\n",
       "        text-align: right;\n",
       "    }\n",
       "</style>\n",
       "<table border=\"1\" class=\"dataframe\">\n",
       "  <thead>\n",
       "    <tr style=\"text-align: right;\">\n",
       "      <th></th>\n",
       "      <th>Composite Element REF</th>\n",
       "      <th>Beta_value</th>\n",
       "      <th>Chromosome</th>\n",
       "      <th>Start</th>\n",
       "      <th>End</th>\n",
       "      <th>Gene_Symbol</th>\n",
       "      <th>Gene_Type</th>\n",
       "      <th>Transcript_ID</th>\n",
       "      <th>Position_to_TSS</th>\n",
       "      <th>CGI_Coordinate</th>\n",
       "      <th>Feature_Type</th>\n",
       "    </tr>\n",
       "  </thead>\n",
       "  <tbody>\n",
       "    <tr>\n",
       "      <th>0</th>\n",
       "      <td>cg00000292</td>\n",
       "      <td>0.673595</td>\n",
       "      <td>chr16</td>\n",
       "      <td>28878779</td>\n",
       "      <td>28878780</td>\n",
       "      <td>ATP2A1;ATP2A1;ATP2A1;ATP2A1;ATP2A1</td>\n",
       "      <td>protein_coding;protein_coding;protein_coding;p...</td>\n",
       "      <td>ENST00000357084.6;ENST00000395503.7;ENST000005...</td>\n",
       "      <td>373;290;-1275;-465;-83</td>\n",
       "      <td>CGI:chr16:28879633-28880547</td>\n",
       "      <td>N_Shore</td>\n",
       "    </tr>\n",
       "    <tr>\n",
       "      <th>1</th>\n",
       "      <td>cg00002426</td>\n",
       "      <td>0.591519</td>\n",
       "      <td>chr3</td>\n",
       "      <td>57757816</td>\n",
       "      <td>57757817</td>\n",
       "      <td>SLMAP;SLMAP;SLMAP;SLMAP;SLMAP;SLMAP</td>\n",
       "      <td>protein_coding;protein_coding;protein_coding;p...</td>\n",
       "      <td>ENST00000295951.6;ENST00000295952.6;ENST000003...</td>\n",
       "      <td>1585;368;261;257;257;514</td>\n",
       "      <td>CGI:chr3:57756198-57757263</td>\n",
       "      <td>S_Shore</td>\n",
       "    </tr>\n",
       "    <tr>\n",
       "      <th>2</th>\n",
       "      <td>cg00003994</td>\n",
       "      <td>0.053257</td>\n",
       "      <td>chr7</td>\n",
       "      <td>15686237</td>\n",
       "      <td>15686238</td>\n",
       "      <td>MEOX2</td>\n",
       "      <td>protein_coding</td>\n",
       "      <td>ENST00000262041.5</td>\n",
       "      <td>576</td>\n",
       "      <td>CGI:chr7:16399497-16399700</td>\n",
       "      <td>.</td>\n",
       "    </tr>\n",
       "    <tr>\n",
       "      <th>3</th>\n",
       "      <td>cg00005847</td>\n",
       "      <td>0.416658</td>\n",
       "      <td>chr2</td>\n",
       "      <td>176164345</td>\n",
       "      <td>176164346</td>\n",
       "      <td>AC009336.19;HOXD3;HOXD3;HOXD3;RP11-387A1.5</td>\n",
       "      <td>protein_coding;protein_coding;protein_coding;p...</td>\n",
       "      <td>ENST00000468418.4;ENST00000249440.4;ENST000004...</td>\n",
       "      <td>13259;267;3453;27387;1372</td>\n",
       "      <td>CGI:chr2:176164685-176165509</td>\n",
       "      <td>N_Shore</td>\n",
       "    </tr>\n",
       "    <tr>\n",
       "      <th>4</th>\n",
       "      <td>cg00006414</td>\n",
       "      <td>NaN</td>\n",
       "      <td>chr7</td>\n",
       "      <td>149125745</td>\n",
       "      <td>149125746</td>\n",
       "      <td>RN7SL521P;ZNF398;ZNF425;ZNF425</td>\n",
       "      <td>misc_RNA;protein_coding;protein_coding;protein...</td>\n",
       "      <td>ENST00000488398.3;ENST00000426851.5;ENST000003...</td>\n",
       "      <td>242;-672;602;562</td>\n",
       "      <td>CGI:chr7:149126122-149127136</td>\n",
       "      <td>N_Shore</td>\n",
       "    </tr>\n",
       "  </tbody>\n",
       "</table>\n",
       "</div>"
      ],
      "text/plain": [
       "  Composite Element REF  Beta_value Chromosome      Start        End  \\\n",
       "0            cg00000292    0.673595      chr16   28878779   28878780   \n",
       "1            cg00002426    0.591519       chr3   57757816   57757817   \n",
       "2            cg00003994    0.053257       chr7   15686237   15686238   \n",
       "3            cg00005847    0.416658       chr2  176164345  176164346   \n",
       "4            cg00006414         NaN       chr7  149125745  149125746   \n",
       "\n",
       "                                  Gene_Symbol  \\\n",
       "0          ATP2A1;ATP2A1;ATP2A1;ATP2A1;ATP2A1   \n",
       "1         SLMAP;SLMAP;SLMAP;SLMAP;SLMAP;SLMAP   \n",
       "2                                       MEOX2   \n",
       "3  AC009336.19;HOXD3;HOXD3;HOXD3;RP11-387A1.5   \n",
       "4              RN7SL521P;ZNF398;ZNF425;ZNF425   \n",
       "\n",
       "                                           Gene_Type  \\\n",
       "0  protein_coding;protein_coding;protein_coding;p...   \n",
       "1  protein_coding;protein_coding;protein_coding;p...   \n",
       "2                                     protein_coding   \n",
       "3  protein_coding;protein_coding;protein_coding;p...   \n",
       "4  misc_RNA;protein_coding;protein_coding;protein...   \n",
       "\n",
       "                                       Transcript_ID  \\\n",
       "0  ENST00000357084.6;ENST00000395503.7;ENST000005...   \n",
       "1  ENST00000295951.6;ENST00000295952.6;ENST000003...   \n",
       "2                                  ENST00000262041.5   \n",
       "3  ENST00000468418.4;ENST00000249440.4;ENST000004...   \n",
       "4  ENST00000488398.3;ENST00000426851.5;ENST000003...   \n",
       "\n",
       "             Position_to_TSS                CGI_Coordinate Feature_Type  \n",
       "0     373;290;-1275;-465;-83   CGI:chr16:28879633-28880547      N_Shore  \n",
       "1   1585;368;261;257;257;514    CGI:chr3:57756198-57757263      S_Shore  \n",
       "2                        576    CGI:chr7:16399497-16399700            .  \n",
       "3  13259;267;3453;27387;1372  CGI:chr2:176164685-176165509      N_Shore  \n",
       "4           242;-672;602;562  CGI:chr7:149126122-149127136      N_Shore  "
      ]
     },
     "execution_count": 12,
     "metadata": {},
     "output_type": "execute_result"
    }
   ],
   "source": [
    "g2p2.head() #Lets see the data."
   ]
  },
  {
   "cell_type": "code",
   "execution_count": 13,
   "metadata": {},
   "outputs": [
    {
     "data": {
      "text/plain": [
       "Composite Element REF       0\n",
       "Beta_value               2599\n",
       "Chromosome                  0\n",
       "Start                       0\n",
       "End                         0\n",
       "Gene_Symbol                 0\n",
       "Gene_Type                   0\n",
       "Transcript_ID               0\n",
       "Position_to_TSS             0\n",
       "CGI_Coordinate              0\n",
       "Feature_Type                0\n",
       "dtype: int64"
      ]
     },
     "execution_count": 13,
     "metadata": {},
     "output_type": "execute_result"
    }
   ],
   "source": [
    "g2p2.isna().sum() #Total sum of all missing values for every column."
   ]
  },
  {
   "cell_type": "code",
   "execution_count": 14,
   "metadata": {},
   "outputs": [
    {
     "data": {
      "text/plain": [
       "27578"
      ]
     },
     "execution_count": 14,
     "metadata": {},
     "output_type": "execute_result"
    }
   ],
   "source": [
    "len(g2p2[\"Beta_value\"]) #Total count."
   ]
  },
  {
   "cell_type": "markdown",
   "metadata": {},
   "source": [
    "The DNA Methylation dataset for this patient is much smaller (27578 vs 485577) than others from the same group. Thus I will select another patient for whom DNA methylation file is closer to the other patients. This is so that any comparisons made are fair.\n"
   ]
  },
  {
   "cell_type": "markdown",
   "metadata": {},
   "source": [
    "## Choosing a New Patient 2 for Group 2"
   ]
  },
  {
   "cell_type": "code",
   "execution_count": 15,
   "metadata": {},
   "outputs": [],
   "source": [
    "#All clinical data is imported to choose new pt for group 2.\n",
    "\n",
    "clinicaldata = pd.read_csv(\"TCGA-LUAD_Clinical.csv\") \n",
    "\n",
    "#There are too many columns. \n",
    "#Lets remove some and leave in some to get a good overview of the data.\n",
    "\n",
    "clindata_copy = clinicaldata[['submitter_id', 'cigarettes_per_day', \n",
    "                              'alcohol_intensity', 'years_smoked',\n",
    "                              'alcohol_history', 'pack_years_smoked', \n",
    "                              'gender', 'race', 'vital_status', 'ethnicity', \n",
    "                              'bcr_patient_barcode','disease']].copy()\n",
    "\n",
    "clindata_copy = clindata_copy.fillna(0) #Replaces all NaNs with 0.\n",
    "\n",
    "#This selects all data for which the exposure data is equal to zero.\n",
    "nonsmokers = clindata_copy.loc[(clindata_copy['cigarettes_per_day'] == 0) \n",
    "                               & (clindata_copy['years_smoked'] == 0) \n",
    "                               & (clindata_copy['pack_years_smoked'] == 0)]\n",
    "\n",
    "#Randomly selects 1 patient that meets the above requirements.\n",
    "NewPatient2 = nonsmokers.sample(n = 1) \n",
    "\n",
    "#Saves the new patient info into a new file. For safekeeping.\n",
    "NewPatient2.to_csv('NewPatient2.csv') \n",
    "\n"
   ]
  },
  {
   "cell_type": "code",
   "execution_count": 16,
   "metadata": {},
   "outputs": [
    {
     "data": {
      "text/html": [
       "<div>\n",
       "<style scoped>\n",
       "    .dataframe tbody tr th:only-of-type {\n",
       "        vertical-align: middle;\n",
       "    }\n",
       "\n",
       "    .dataframe tbody tr th {\n",
       "        vertical-align: top;\n",
       "    }\n",
       "\n",
       "    .dataframe thead th {\n",
       "        text-align: right;\n",
       "    }\n",
       "</style>\n",
       "<table border=\"1\" class=\"dataframe\">\n",
       "  <thead>\n",
       "    <tr style=\"text-align: right;\">\n",
       "      <th></th>\n",
       "      <th>Unnamed: 0</th>\n",
       "      <th>submitter_id</th>\n",
       "      <th>cigarettes_per_day</th>\n",
       "      <th>alcohol_intensity</th>\n",
       "      <th>years_smoked</th>\n",
       "      <th>alcohol_history</th>\n",
       "      <th>pack_years_smoked</th>\n",
       "      <th>gender</th>\n",
       "      <th>race</th>\n",
       "      <th>vital_status</th>\n",
       "      <th>ethnicity</th>\n",
       "      <th>bcr_patient_barcode</th>\n",
       "      <th>disease</th>\n",
       "    </tr>\n",
       "  </thead>\n",
       "  <tbody>\n",
       "    <tr>\n",
       "      <th>0</th>\n",
       "      <td>309</td>\n",
       "      <td>TCGA-71-8520</td>\n",
       "      <td>0.0</td>\n",
       "      <td>0.0</td>\n",
       "      <td>0.0</td>\n",
       "      <td>Not Reported</td>\n",
       "      <td>0.0</td>\n",
       "      <td>female</td>\n",
       "      <td>asian</td>\n",
       "      <td>Dead</td>\n",
       "      <td>not hispanic or latino</td>\n",
       "      <td>TCGA-71-8520</td>\n",
       "      <td>LUAD</td>\n",
       "    </tr>\n",
       "  </tbody>\n",
       "</table>\n",
       "</div>"
      ],
      "text/plain": [
       "   Unnamed: 0  submitter_id  cigarettes_per_day  alcohol_intensity  \\\n",
       "0         309  TCGA-71-8520                 0.0                0.0   \n",
       "\n",
       "   years_smoked alcohol_history  pack_years_smoked  gender   race  \\\n",
       "0           0.0    Not Reported                0.0  female  asian   \n",
       "\n",
       "  vital_status               ethnicity bcr_patient_barcode disease  \n",
       "0         Dead  not hispanic or latino        TCGA-71-8520    LUAD  "
      ]
     },
     "execution_count": 16,
     "metadata": {},
     "output_type": "execute_result"
    }
   ],
   "source": [
    "np2 = pd.read_csv('NewPatient2.csv') #New Patient 2 info.\n",
    "\n",
    "np2.head()#Lets see the new patient's submitter Id to get the DNA Methylation data."
   ]
  },
  {
   "cell_type": "markdown",
   "metadata": {},
   "source": [
    "This new patient is not present in the list of patients for group 2 and thus can represent patient 2."
   ]
  },
  {
   "cell_type": "code",
   "execution_count": 17,
   "metadata": {},
   "outputs": [],
   "source": [
    "#importing new patient 2 DNA Methylation data.\n",
    "g2np2 = pd.read_csv('DMG2NP2.txt', delimiter = '\\t', encoding = 'utf-8') "
   ]
  },
  {
   "cell_type": "code",
   "execution_count": 18,
   "metadata": {},
   "outputs": [
    {
     "data": {
      "text/plain": [
       "Composite Element REF        0\n",
       "Beta_value               89844\n",
       "Chromosome                   0\n",
       "Start                        0\n",
       "End                          0\n",
       "Gene_Symbol                  0\n",
       "Gene_Type                    0\n",
       "Transcript_ID                0\n",
       "Position_to_TSS              0\n",
       "CGI_Coordinate               0\n",
       "Feature_Type                 0\n",
       "dtype: int64"
      ]
     },
     "execution_count": 18,
     "metadata": {},
     "output_type": "execute_result"
    }
   ],
   "source": [
    "g2np2.isna().sum() #Total sum of all missing values for every column."
   ]
  },
  {
   "cell_type": "code",
   "execution_count": 19,
   "metadata": {},
   "outputs": [
    {
     "data": {
      "text/plain": [
       "485577"
      ]
     },
     "execution_count": 19,
     "metadata": {},
     "output_type": "execute_result"
    }
   ],
   "source": [
    "len(g2np2) "
   ]
  },
  {
   "cell_type": "markdown",
   "metadata": {},
   "source": [
    "The size of the dataset is a lot better than the first patient 2, and can be used to analyze alongside the others in the group. "
   ]
  },
  {
   "cell_type": "code",
   "execution_count": 20,
   "metadata": {},
   "outputs": [
    {
     "data": {
      "text/plain": [
       "Composite Element REF    0\n",
       "Beta_value               0\n",
       "Chromosome               0\n",
       "Start                    0\n",
       "End                      0\n",
       "Gene_Symbol              0\n",
       "Gene_Type                0\n",
       "Transcript_ID            0\n",
       "Position_to_TSS          0\n",
       "CGI_Coordinate           0\n",
       "Feature_Type             0\n",
       "dtype: int64"
      ]
     },
     "execution_count": 20,
     "metadata": {},
     "output_type": "execute_result"
    }
   ],
   "source": [
    "g2np2 = g2np2.dropna() #Removing rows of missing values.\n",
    "\n",
    "g2np2.isna().sum() #Checking that the data is clean and free from NAs."
   ]
  },
  {
   "cell_type": "markdown",
   "metadata": {},
   "source": [
    "## Group 2 - Patient 3"
   ]
  },
  {
   "cell_type": "code",
   "execution_count": 21,
   "metadata": {},
   "outputs": [
    {
     "data": {
      "text/plain": [
       "Composite Element REF        0\n",
       "Beta_value               89791\n",
       "Chromosome                   0\n",
       "Start                        0\n",
       "End                          0\n",
       "Gene_Symbol                  0\n",
       "Gene_Type                    0\n",
       "Transcript_ID                0\n",
       "Position_to_TSS              0\n",
       "CGI_Coordinate               0\n",
       "Feature_Type                 0\n",
       "dtype: int64"
      ]
     },
     "execution_count": 21,
     "metadata": {},
     "output_type": "execute_result"
    }
   ],
   "source": [
    "g2p3.isna().sum() #Total sum of all missing values for every column."
   ]
  },
  {
   "cell_type": "code",
   "execution_count": 22,
   "metadata": {},
   "outputs": [
    {
     "data": {
      "text/plain": [
       "485577"
      ]
     },
     "execution_count": 22,
     "metadata": {},
     "output_type": "execute_result"
    }
   ],
   "source": [
    "len(g2p3) #Size of dataset."
   ]
  },
  {
   "cell_type": "code",
   "execution_count": 23,
   "metadata": {},
   "outputs": [
    {
     "data": {
      "text/plain": [
       "Composite Element REF    0\n",
       "Beta_value               0\n",
       "Chromosome               0\n",
       "Start                    0\n",
       "End                      0\n",
       "Gene_Symbol              0\n",
       "Gene_Type                0\n",
       "Transcript_ID            0\n",
       "Position_to_TSS          0\n",
       "CGI_Coordinate           0\n",
       "Feature_Type             0\n",
       "dtype: int64"
      ]
     },
     "execution_count": 23,
     "metadata": {},
     "output_type": "execute_result"
    }
   ],
   "source": [
    "g2p3 = g2p3.dropna() #Removing rows of missing values.\n",
    "\n",
    "g2p3.isna().sum() #Checking that the data is clean and free from NAs."
   ]
  },
  {
   "cell_type": "markdown",
   "metadata": {},
   "source": [
    "There seems to be a trend amongst the mising values. Perhaps all datasets have approximately the same value missing from the same column? If so, we can skip a few steps and go straight to removal of missing values."
   ]
  },
  {
   "cell_type": "markdown",
   "metadata": {},
   "source": [
    "## Group 2 - Patient 4"
   ]
  },
  {
   "cell_type": "code",
   "execution_count": 24,
   "metadata": {},
   "outputs": [
    {
     "data": {
      "text/plain": [
       "Composite Element REF        0\n",
       "Beta_value               89562\n",
       "Chromosome                   0\n",
       "Start                        0\n",
       "End                          0\n",
       "Gene_Symbol                  0\n",
       "Gene_Type                    0\n",
       "Transcript_ID                0\n",
       "Position_to_TSS              0\n",
       "CGI_Coordinate               0\n",
       "Feature_Type                 0\n",
       "dtype: int64"
      ]
     },
     "execution_count": 24,
     "metadata": {},
     "output_type": "execute_result"
    }
   ],
   "source": [
    "g2p4.isna().sum() #Total sum of all missing values for every column."
   ]
  },
  {
   "cell_type": "code",
   "execution_count": 25,
   "metadata": {},
   "outputs": [
    {
     "data": {
      "text/plain": [
       "485577"
      ]
     },
     "execution_count": 25,
     "metadata": {},
     "output_type": "execute_result"
    }
   ],
   "source": [
    "len(g2p4) #Size of dataset."
   ]
  },
  {
   "cell_type": "code",
   "execution_count": 26,
   "metadata": {},
   "outputs": [
    {
     "data": {
      "text/plain": [
       "Composite Element REF    0\n",
       "Beta_value               0\n",
       "Chromosome               0\n",
       "Start                    0\n",
       "End                      0\n",
       "Gene_Symbol              0\n",
       "Gene_Type                0\n",
       "Transcript_ID            0\n",
       "Position_to_TSS          0\n",
       "CGI_Coordinate           0\n",
       "Feature_Type             0\n",
       "dtype: int64"
      ]
     },
     "execution_count": 26,
     "metadata": {},
     "output_type": "execute_result"
    }
   ],
   "source": [
    "g2p4 = g2p4.dropna() #Removing rows of missing values.\n",
    "\n",
    "g2p4.isna().sum() #Checking that the data is clean and free from NAs."
   ]
  },
  {
   "cell_type": "markdown",
   "metadata": {},
   "source": [
    "## Group 2 - Patient 5"
   ]
  },
  {
   "cell_type": "code",
   "execution_count": 27,
   "metadata": {},
   "outputs": [
    {
     "data": {
      "text/plain": [
       "Composite Element REF        0\n",
       "Beta_value               89634\n",
       "Chromosome                   0\n",
       "Start                        0\n",
       "End                          0\n",
       "Gene_Symbol                  0\n",
       "Gene_Type                    0\n",
       "Transcript_ID                0\n",
       "Position_to_TSS              0\n",
       "CGI_Coordinate               0\n",
       "Feature_Type                 0\n",
       "dtype: int64"
      ]
     },
     "execution_count": 27,
     "metadata": {},
     "output_type": "execute_result"
    }
   ],
   "source": [
    "g2p5.isna().sum() #Total sum of all missing values for every column."
   ]
  },
  {
   "cell_type": "code",
   "execution_count": 28,
   "metadata": {},
   "outputs": [
    {
     "data": {
      "text/plain": [
       "485577"
      ]
     },
     "execution_count": 28,
     "metadata": {},
     "output_type": "execute_result"
    }
   ],
   "source": [
    "len(g2p5) #Size of dataset."
   ]
  },
  {
   "cell_type": "code",
   "execution_count": 29,
   "metadata": {},
   "outputs": [
    {
     "data": {
      "text/plain": [
       "Composite Element REF    0\n",
       "Beta_value               0\n",
       "Chromosome               0\n",
       "Start                    0\n",
       "End                      0\n",
       "Gene_Symbol              0\n",
       "Gene_Type                0\n",
       "Transcript_ID            0\n",
       "Position_to_TSS          0\n",
       "CGI_Coordinate           0\n",
       "Feature_Type             0\n",
       "dtype: int64"
      ]
     },
     "execution_count": 29,
     "metadata": {},
     "output_type": "execute_result"
    }
   ],
   "source": [
    "g2p5 = g2p5.dropna() #Removing rows of missing values.\n",
    "\n",
    "g2p5.isna().sum() #Checking that the data is clean and free from NAs."
   ]
  },
  {
   "cell_type": "markdown",
   "metadata": {},
   "source": [
    "## Group 2 - Patient 6"
   ]
  },
  {
   "cell_type": "code",
   "execution_count": 30,
   "metadata": {},
   "outputs": [
    {
     "data": {
      "text/plain": [
       "Composite Element REF        0\n",
       "Beta_value               89847\n",
       "Chromosome                   0\n",
       "Start                        0\n",
       "End                          0\n",
       "Gene_Symbol                  0\n",
       "Gene_Type                    0\n",
       "Transcript_ID                0\n",
       "Position_to_TSS              0\n",
       "CGI_Coordinate               0\n",
       "Feature_Type                 0\n",
       "dtype: int64"
      ]
     },
     "execution_count": 30,
     "metadata": {},
     "output_type": "execute_result"
    }
   ],
   "source": [
    "g2p6.isna().sum() #Total sum of all missing values for every column."
   ]
  },
  {
   "cell_type": "code",
   "execution_count": 31,
   "metadata": {},
   "outputs": [
    {
     "data": {
      "text/plain": [
       "485577"
      ]
     },
     "execution_count": 31,
     "metadata": {},
     "output_type": "execute_result"
    }
   ],
   "source": [
    "len(g2p6) #Size of dataset."
   ]
  },
  {
   "cell_type": "code",
   "execution_count": 32,
   "metadata": {},
   "outputs": [
    {
     "data": {
      "text/plain": [
       "Composite Element REF    0\n",
       "Beta_value               0\n",
       "Chromosome               0\n",
       "Start                    0\n",
       "End                      0\n",
       "Gene_Symbol              0\n",
       "Gene_Type                0\n",
       "Transcript_ID            0\n",
       "Position_to_TSS          0\n",
       "CGI_Coordinate           0\n",
       "Feature_Type             0\n",
       "dtype: int64"
      ]
     },
     "execution_count": 32,
     "metadata": {},
     "output_type": "execute_result"
    }
   ],
   "source": [
    "g2p6 = g2p6.dropna() #Removing rows of missing values.\n",
    "\n",
    "g2p6.isna().sum() #Checking that the data is clean and free from NAs."
   ]
  },
  {
   "cell_type": "markdown",
   "metadata": {},
   "source": [
    "## Group 2 - Patient 7"
   ]
  },
  {
   "cell_type": "code",
   "execution_count": 33,
   "metadata": {},
   "outputs": [
    {
     "data": {
      "text/plain": [
       "Composite Element REF        0\n",
       "Beta_value               89756\n",
       "Chromosome                   0\n",
       "Start                        0\n",
       "End                          0\n",
       "Gene_Symbol                  0\n",
       "Gene_Type                    0\n",
       "Transcript_ID                0\n",
       "Position_to_TSS              0\n",
       "CGI_Coordinate               0\n",
       "Feature_Type                 0\n",
       "dtype: int64"
      ]
     },
     "execution_count": 33,
     "metadata": {},
     "output_type": "execute_result"
    }
   ],
   "source": [
    "g2p7.isna().sum() #Total sum of all missing values for every column."
   ]
  },
  {
   "cell_type": "code",
   "execution_count": 34,
   "metadata": {},
   "outputs": [
    {
     "data": {
      "text/plain": [
       "485577"
      ]
     },
     "execution_count": 34,
     "metadata": {},
     "output_type": "execute_result"
    }
   ],
   "source": [
    "len(g2p7) #Size of dataset."
   ]
  },
  {
   "cell_type": "code",
   "execution_count": 35,
   "metadata": {},
   "outputs": [
    {
     "data": {
      "text/plain": [
       "Composite Element REF    0\n",
       "Beta_value               0\n",
       "Chromosome               0\n",
       "Start                    0\n",
       "End                      0\n",
       "Gene_Symbol              0\n",
       "Gene_Type                0\n",
       "Transcript_ID            0\n",
       "Position_to_TSS          0\n",
       "CGI_Coordinate           0\n",
       "Feature_Type             0\n",
       "dtype: int64"
      ]
     },
     "execution_count": 35,
     "metadata": {},
     "output_type": "execute_result"
    }
   ],
   "source": [
    "g2p7 = g2p7.dropna() #Removing rows of missing values.\n",
    "\n",
    "g2p7.isna().sum() #Checking that the data is clean and free from NAs."
   ]
  },
  {
   "cell_type": "markdown",
   "metadata": {},
   "source": [
    "## Group 2 - Patient 8"
   ]
  },
  {
   "cell_type": "code",
   "execution_count": 36,
   "metadata": {},
   "outputs": [
    {
     "data": {
      "text/plain": [
       "Composite Element REF        0\n",
       "Beta_value               89996\n",
       "Chromosome                   0\n",
       "Start                        0\n",
       "End                          0\n",
       "Gene_Symbol                  0\n",
       "Gene_Type                    0\n",
       "Transcript_ID                0\n",
       "Position_to_TSS              0\n",
       "CGI_Coordinate               0\n",
       "Feature_Type                 0\n",
       "dtype: int64"
      ]
     },
     "execution_count": 36,
     "metadata": {},
     "output_type": "execute_result"
    }
   ],
   "source": [
    "g2p8.isna().sum() #Total sum of all missing values for every column."
   ]
  },
  {
   "cell_type": "code",
   "execution_count": 37,
   "metadata": {},
   "outputs": [
    {
     "data": {
      "text/plain": [
       "485577"
      ]
     },
     "execution_count": 37,
     "metadata": {},
     "output_type": "execute_result"
    }
   ],
   "source": [
    "len(g2p8) #Size of dataset."
   ]
  },
  {
   "cell_type": "code",
   "execution_count": 38,
   "metadata": {},
   "outputs": [
    {
     "data": {
      "text/plain": [
       "Composite Element REF    0\n",
       "Beta_value               0\n",
       "Chromosome               0\n",
       "Start                    0\n",
       "End                      0\n",
       "Gene_Symbol              0\n",
       "Gene_Type                0\n",
       "Transcript_ID            0\n",
       "Position_to_TSS          0\n",
       "CGI_Coordinate           0\n",
       "Feature_Type             0\n",
       "dtype: int64"
      ]
     },
     "execution_count": 38,
     "metadata": {},
     "output_type": "execute_result"
    }
   ],
   "source": [
    "g2p8 = g2p8.dropna() #Removing rows of missing values.\n",
    "\n",
    "g2p8.isna().sum() #Checking that the data is clean and free from NAs."
   ]
  },
  {
   "cell_type": "markdown",
   "metadata": {},
   "source": [
    "## Group 2 - Patient 9"
   ]
  },
  {
   "cell_type": "code",
   "execution_count": 39,
   "metadata": {},
   "outputs": [
    {
     "data": {
      "text/plain": [
       "Composite Element REF        0\n",
       "Beta_value               89610\n",
       "Chromosome                   0\n",
       "Start                        0\n",
       "End                          0\n",
       "Gene_Symbol                  0\n",
       "Gene_Type                    0\n",
       "Transcript_ID                0\n",
       "Position_to_TSS              0\n",
       "CGI_Coordinate               0\n",
       "Feature_Type                 0\n",
       "dtype: int64"
      ]
     },
     "execution_count": 39,
     "metadata": {},
     "output_type": "execute_result"
    }
   ],
   "source": [
    "g2p9.isna().sum() #Total sum of all missing values for every column."
   ]
  },
  {
   "cell_type": "code",
   "execution_count": 40,
   "metadata": {},
   "outputs": [
    {
     "data": {
      "text/plain": [
       "485577"
      ]
     },
     "execution_count": 40,
     "metadata": {},
     "output_type": "execute_result"
    }
   ],
   "source": [
    "len(g2p9) #Size of dataset."
   ]
  },
  {
   "cell_type": "code",
   "execution_count": 41,
   "metadata": {},
   "outputs": [
    {
     "data": {
      "text/plain": [
       "Composite Element REF    0\n",
       "Beta_value               0\n",
       "Chromosome               0\n",
       "Start                    0\n",
       "End                      0\n",
       "Gene_Symbol              0\n",
       "Gene_Type                0\n",
       "Transcript_ID            0\n",
       "Position_to_TSS          0\n",
       "CGI_Coordinate           0\n",
       "Feature_Type             0\n",
       "dtype: int64"
      ]
     },
     "execution_count": 41,
     "metadata": {},
     "output_type": "execute_result"
    }
   ],
   "source": [
    "g2p9 = g2p9.dropna() #Removing rows of missing values.\n",
    "\n",
    "g2p9.isna().sum() #Checking that the data is clean and free from NAs."
   ]
  },
  {
   "cell_type": "markdown",
   "metadata": {},
   "source": [
    "## Group 2 - Patient 10"
   ]
  },
  {
   "cell_type": "code",
   "execution_count": 42,
   "metadata": {},
   "outputs": [
    {
     "data": {
      "text/plain": [
       "Composite Element REF        0\n",
       "Beta_value               89559\n",
       "Chromosome                   0\n",
       "Start                        0\n",
       "End                          0\n",
       "Gene_Symbol                  0\n",
       "Gene_Type                    0\n",
       "Transcript_ID                0\n",
       "Position_to_TSS              0\n",
       "CGI_Coordinate               0\n",
       "Feature_Type                 0\n",
       "dtype: int64"
      ]
     },
     "execution_count": 42,
     "metadata": {},
     "output_type": "execute_result"
    }
   ],
   "source": [
    "g2p10.isna().sum() #Total sum of all missing values for every column."
   ]
  },
  {
   "cell_type": "code",
   "execution_count": 43,
   "metadata": {},
   "outputs": [
    {
     "data": {
      "text/plain": [
       "485577"
      ]
     },
     "execution_count": 43,
     "metadata": {},
     "output_type": "execute_result"
    }
   ],
   "source": [
    "len(g2p10) #Size of dataset."
   ]
  },
  {
   "cell_type": "code",
   "execution_count": 44,
   "metadata": {},
   "outputs": [
    {
     "data": {
      "text/plain": [
       "Composite Element REF    0\n",
       "Beta_value               0\n",
       "Chromosome               0\n",
       "Start                    0\n",
       "End                      0\n",
       "Gene_Symbol              0\n",
       "Gene_Type                0\n",
       "Transcript_ID            0\n",
       "Position_to_TSS          0\n",
       "CGI_Coordinate           0\n",
       "Feature_Type             0\n",
       "dtype: int64"
      ]
     },
     "execution_count": 44,
     "metadata": {},
     "output_type": "execute_result"
    }
   ],
   "source": [
    "g2p10 = g2p10.dropna() #Removing rows of missing values.\n",
    "\n",
    "g2p10.isna().sum() #Checking that the data is clean and free from NAs."
   ]
  },
  {
   "cell_type": "markdown",
   "metadata": {},
   "source": [
    "# Download All Clean Files:"
   ]
  },
  {
   "cell_type": "markdown",
   "metadata": {},
   "source": [
    "Lets download all the patient's clean datasets."
   ]
  },
  {
   "cell_type": "code",
   "execution_count": 45,
   "metadata": {},
   "outputs": [],
   "source": [
    "g2p1.to_csv('g2p1.csv')\n",
    "g2np2.to_csv('g2p2.csv')\n",
    "g2p3.to_csv('g2p3.csv')\n",
    "g2p4.to_csv('g2p4.csv')\n",
    "g2p5.to_csv('g2p5.csv')\n",
    "g2p6.to_csv('g2p6.csv')\n",
    "g2p7.to_csv('g2p7.csv')\n",
    "g2p8.to_csv('g2p8.csv')\n",
    "g2p9.to_csv('g2p9.csv')\n",
    "g2p10.to_csv('g2p10.csv')"
   ]
  },
  {
   "cell_type": "markdown",
   "metadata": {},
   "source": [
    "Now that all DNA Methylation data for every patient on group 2 is clean, I will use it to perform exploratory data analysis in part 4."
   ]
  }
 ],
 "metadata": {
  "kernelspec": {
   "display_name": "Python 3",
   "language": "python",
   "name": "python3"
  },
  "language_info": {
   "codemirror_mode": {
    "name": "ipython",
    "version": 3
   },
   "file_extension": ".py",
   "mimetype": "text/x-python",
   "name": "python",
   "nbconvert_exporter": "python",
   "pygments_lexer": "ipython3",
   "version": "3.7.3"
  }
 },
 "nbformat": 4,
 "nbformat_minor": 2
}
