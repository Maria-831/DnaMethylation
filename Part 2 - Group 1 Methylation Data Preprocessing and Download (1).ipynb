{
 "cells": [
  {
   "cell_type": "markdown",
   "metadata": {},
   "source": [
    "# I. Introduction"
   ]
  },
  {
   "cell_type": "markdown",
   "metadata": {},
   "source": [
    "In this notebook DNA Methylation data is obtained manually from GDC by searching for the selected patient using their id (submitter_id). After obtaining the data for each patient, the data is then cleaned and downloaded to further explore in notebook 4.\n"
   ]
  },
  {
   "cell_type": "markdown",
   "metadata": {},
   "source": [
    "# DNA Methylation Data Gathering Steps"
   ]
  },
  {
   "cell_type": "markdown",
   "metadata": {},
   "source": [
    "This is mostly for records keeping. I am adding it in case you wanted to see how exactly I obtained the DNA Methylation data for every patient.\n",
    "\n",
    "Steps followed to obtain DNA Methylation Data:\n",
    "\n",
    "1. Go to gdc.cancer.gov (Its where all TCGA data is stored.)\n",
    "2. Click on Lauch Data Portal.\n",
    "3. Click Accept if asked.\n",
    "4. Click on the green Projects button.\n",
    "5. Under 'Primary Site' select 'Bronchus and Lung' and under 'Program' select 'TCGA'.\n",
    "6. Click on the project name TCGA-LUAD.\n",
    "7. Click on Explore Project Data button.\n",
    "8. In the search bar on the left, enter the submitter_id of the patient. Do not hit enter.\n",
    "9. From the dropdown results, select the patient.\n",
    "10. Click on the case id.\n",
    "11. Scroll to 'File Counts by Data Category', Find 'DNA Methylation' and click on the file count (usually a 1).\n",
    "12. Click on the file name (.txt)\n",
    "13. Click on Download.\n",
    "14. Unzip, extract and save to intended folder.\n"
   ]
  },
  {
   "cell_type": "markdown",
   "metadata": {},
   "source": [
    "# Group 1: Smoking Group"
   ]
  },
  {
   "cell_type": "code",
   "execution_count": 2,
   "metadata": {},
   "outputs": [],
   "source": [
    "import pandas as pd #Necessary package/s."
   ]
  },
  {
   "cell_type": "code",
   "execution_count": 3,
   "metadata": {},
   "outputs": [],
   "source": [
    "group1 = pd.read_csv(\"group1.csv\") #import data"
   ]
  },
  {
   "cell_type": "code",
   "execution_count": 4,
   "metadata": {},
   "outputs": [
    {
     "data": {
      "text/html": [
       "<div>\n",
       "<style scoped>\n",
       "    .dataframe tbody tr th:only-of-type {\n",
       "        vertical-align: middle;\n",
       "    }\n",
       "\n",
       "    .dataframe tbody tr th {\n",
       "        vertical-align: top;\n",
       "    }\n",
       "\n",
       "    .dataframe thead th {\n",
       "        text-align: right;\n",
       "    }\n",
       "</style>\n",
       "<table border=\"1\" class=\"dataframe\">\n",
       "  <thead>\n",
       "    <tr style=\"text-align: right;\">\n",
       "      <th></th>\n",
       "      <th>Unnamed: 0</th>\n",
       "      <th>submitter_id</th>\n",
       "      <th>cigarettes_per_day</th>\n",
       "      <th>alcohol_intensity</th>\n",
       "      <th>years_smoked</th>\n",
       "      <th>alcohol_history</th>\n",
       "      <th>pack_years_smoked</th>\n",
       "      <th>gender</th>\n",
       "      <th>race</th>\n",
       "      <th>vital_status</th>\n",
       "      <th>ethnicity</th>\n",
       "      <th>vital_status.1</th>\n",
       "      <th>bcr_patient_barcode</th>\n",
       "      <th>disease</th>\n",
       "    </tr>\n",
       "  </thead>\n",
       "  <tbody>\n",
       "    <tr>\n",
       "      <th>0</th>\n",
       "      <td>504</td>\n",
       "      <td>TCGA-MP-A4TE</td>\n",
       "      <td>2.191781</td>\n",
       "      <td>NaN</td>\n",
       "      <td>40.0</td>\n",
       "      <td>Not Reported</td>\n",
       "      <td>40.0</td>\n",
       "      <td>male</td>\n",
       "      <td>white</td>\n",
       "      <td>Dead</td>\n",
       "      <td>not hispanic or latino</td>\n",
       "      <td>Dead</td>\n",
       "      <td>TCGA-MP-A4TE</td>\n",
       "      <td>LUAD</td>\n",
       "    </tr>\n",
       "    <tr>\n",
       "      <th>1</th>\n",
       "      <td>79</td>\n",
       "      <td>TCGA-44-6779</td>\n",
       "      <td>0.821918</td>\n",
       "      <td>NaN</td>\n",
       "      <td>30.0</td>\n",
       "      <td>Not Reported</td>\n",
       "      <td>15.0</td>\n",
       "      <td>female</td>\n",
       "      <td>white</td>\n",
       "      <td>Dead</td>\n",
       "      <td>not reported</td>\n",
       "      <td>Dead</td>\n",
       "      <td>TCGA-44-6779</td>\n",
       "      <td>LUAD</td>\n",
       "    </tr>\n",
       "    <tr>\n",
       "      <th>2</th>\n",
       "      <td>428</td>\n",
       "      <td>TCGA-93-A4JN</td>\n",
       "      <td>2.191781</td>\n",
       "      <td>NaN</td>\n",
       "      <td>20.0</td>\n",
       "      <td>Not Reported</td>\n",
       "      <td>40.0</td>\n",
       "      <td>male</td>\n",
       "      <td>white</td>\n",
       "      <td>Alive</td>\n",
       "      <td>not hispanic or latino</td>\n",
       "      <td>Alive</td>\n",
       "      <td>TCGA-93-A4JN</td>\n",
       "      <td>LUAD</td>\n",
       "    </tr>\n",
       "    <tr>\n",
       "      <th>3</th>\n",
       "      <td>433</td>\n",
       "      <td>TCGA-95-7043</td>\n",
       "      <td>2.191781</td>\n",
       "      <td>NaN</td>\n",
       "      <td>39.0</td>\n",
       "      <td>Not Reported</td>\n",
       "      <td>40.0</td>\n",
       "      <td>female</td>\n",
       "      <td>white</td>\n",
       "      <td>Dead</td>\n",
       "      <td>not hispanic or latino</td>\n",
       "      <td>Dead</td>\n",
       "      <td>TCGA-95-7043</td>\n",
       "      <td>LUAD</td>\n",
       "    </tr>\n",
       "    <tr>\n",
       "      <th>4</th>\n",
       "      <td>251</td>\n",
       "      <td>TCGA-55-A494</td>\n",
       "      <td>0.383562</td>\n",
       "      <td>NaN</td>\n",
       "      <td>13.0</td>\n",
       "      <td>Not Reported</td>\n",
       "      <td>7.0</td>\n",
       "      <td>female</td>\n",
       "      <td>white</td>\n",
       "      <td>Alive</td>\n",
       "      <td>not hispanic or latino</td>\n",
       "      <td>Alive</td>\n",
       "      <td>TCGA-55-A494</td>\n",
       "      <td>LUAD</td>\n",
       "    </tr>\n",
       "    <tr>\n",
       "      <th>5</th>\n",
       "      <td>463</td>\n",
       "      <td>TCGA-97-A4M1</td>\n",
       "      <td>0.164384</td>\n",
       "      <td>NaN</td>\n",
       "      <td>3.0</td>\n",
       "      <td>Not Reported</td>\n",
       "      <td>3.0</td>\n",
       "      <td>female</td>\n",
       "      <td>white</td>\n",
       "      <td>Alive</td>\n",
       "      <td>not hispanic or latino</td>\n",
       "      <td>Alive</td>\n",
       "      <td>TCGA-97-A4M1</td>\n",
       "      <td>LUAD</td>\n",
       "    </tr>\n",
       "    <tr>\n",
       "      <th>6</th>\n",
       "      <td>426</td>\n",
       "      <td>TCGA-93-7348</td>\n",
       "      <td>2.301370</td>\n",
       "      <td>NaN</td>\n",
       "      <td>42.0</td>\n",
       "      <td>Not Reported</td>\n",
       "      <td>42.0</td>\n",
       "      <td>female</td>\n",
       "      <td>white</td>\n",
       "      <td>Alive</td>\n",
       "      <td>not hispanic or latino</td>\n",
       "      <td>Alive</td>\n",
       "      <td>TCGA-93-7348</td>\n",
       "      <td>LUAD</td>\n",
       "    </tr>\n",
       "    <tr>\n",
       "      <th>7</th>\n",
       "      <td>471</td>\n",
       "      <td>TCGA-99-8028</td>\n",
       "      <td>1.643836</td>\n",
       "      <td>NaN</td>\n",
       "      <td>30.0</td>\n",
       "      <td>Not Reported</td>\n",
       "      <td>30.0</td>\n",
       "      <td>female</td>\n",
       "      <td>black or african american</td>\n",
       "      <td>Alive</td>\n",
       "      <td>not hispanic or latino</td>\n",
       "      <td>Alive</td>\n",
       "      <td>TCGA-99-8028</td>\n",
       "      <td>LUAD</td>\n",
       "    </tr>\n",
       "    <tr>\n",
       "      <th>8</th>\n",
       "      <td>362</td>\n",
       "      <td>TCGA-78-7539</td>\n",
       "      <td>0.120548</td>\n",
       "      <td>NaN</td>\n",
       "      <td>28.0</td>\n",
       "      <td>Not Reported</td>\n",
       "      <td>2.2</td>\n",
       "      <td>female</td>\n",
       "      <td>white</td>\n",
       "      <td>Alive</td>\n",
       "      <td>not reported</td>\n",
       "      <td>Alive</td>\n",
       "      <td>TCGA-78-7539</td>\n",
       "      <td>LUAD</td>\n",
       "    </tr>\n",
       "    <tr>\n",
       "      <th>9</th>\n",
       "      <td>505</td>\n",
       "      <td>TCGA-MP-A4TF</td>\n",
       "      <td>2.191781</td>\n",
       "      <td>NaN</td>\n",
       "      <td>40.0</td>\n",
       "      <td>Not Reported</td>\n",
       "      <td>40.0</td>\n",
       "      <td>female</td>\n",
       "      <td>white</td>\n",
       "      <td>Dead</td>\n",
       "      <td>not hispanic or latino</td>\n",
       "      <td>Dead</td>\n",
       "      <td>TCGA-MP-A4TF</td>\n",
       "      <td>LUAD</td>\n",
       "    </tr>\n",
       "  </tbody>\n",
       "</table>\n",
       "</div>"
      ],
      "text/plain": [
       "   Unnamed: 0  submitter_id  cigarettes_per_day  alcohol_intensity  \\\n",
       "0         504  TCGA-MP-A4TE            2.191781                NaN   \n",
       "1          79  TCGA-44-6779            0.821918                NaN   \n",
       "2         428  TCGA-93-A4JN            2.191781                NaN   \n",
       "3         433  TCGA-95-7043            2.191781                NaN   \n",
       "4         251  TCGA-55-A494            0.383562                NaN   \n",
       "5         463  TCGA-97-A4M1            0.164384                NaN   \n",
       "6         426  TCGA-93-7348            2.301370                NaN   \n",
       "7         471  TCGA-99-8028            1.643836                NaN   \n",
       "8         362  TCGA-78-7539            0.120548                NaN   \n",
       "9         505  TCGA-MP-A4TF            2.191781                NaN   \n",
       "\n",
       "   years_smoked alcohol_history  pack_years_smoked  gender  \\\n",
       "0          40.0    Not Reported               40.0    male   \n",
       "1          30.0    Not Reported               15.0  female   \n",
       "2          20.0    Not Reported               40.0    male   \n",
       "3          39.0    Not Reported               40.0  female   \n",
       "4          13.0    Not Reported                7.0  female   \n",
       "5           3.0    Not Reported                3.0  female   \n",
       "6          42.0    Not Reported               42.0  female   \n",
       "7          30.0    Not Reported               30.0  female   \n",
       "8          28.0    Not Reported                2.2  female   \n",
       "9          40.0    Not Reported               40.0  female   \n",
       "\n",
       "                        race vital_status               ethnicity  \\\n",
       "0                      white         Dead  not hispanic or latino   \n",
       "1                      white         Dead            not reported   \n",
       "2                      white        Alive  not hispanic or latino   \n",
       "3                      white         Dead  not hispanic or latino   \n",
       "4                      white        Alive  not hispanic or latino   \n",
       "5                      white        Alive  not hispanic or latino   \n",
       "6                      white        Alive  not hispanic or latino   \n",
       "7  black or african american        Alive  not hispanic or latino   \n",
       "8                      white        Alive            not reported   \n",
       "9                      white         Dead  not hispanic or latino   \n",
       "\n",
       "  vital_status.1 bcr_patient_barcode disease  \n",
       "0           Dead        TCGA-MP-A4TE    LUAD  \n",
       "1           Dead        TCGA-44-6779    LUAD  \n",
       "2          Alive        TCGA-93-A4JN    LUAD  \n",
       "3           Dead        TCGA-95-7043    LUAD  \n",
       "4          Alive        TCGA-55-A494    LUAD  \n",
       "5          Alive        TCGA-97-A4M1    LUAD  \n",
       "6          Alive        TCGA-93-7348    LUAD  \n",
       "7          Alive        TCGA-99-8028    LUAD  \n",
       "8          Alive        TCGA-78-7539    LUAD  \n",
       "9           Dead        TCGA-MP-A4TF    LUAD  "
      ]
     },
     "execution_count": 4,
     "metadata": {},
     "output_type": "execute_result"
    }
   ],
   "source": [
    "group1"
   ]
  },
  {
   "cell_type": "markdown",
   "metadata": {},
   "source": [
    "For every submitter_id in the group 1 dataset above, I follow the data gathering steps. They will be labeled DMG1P1 :DNA Methylation Group 1 patient 1. Patient 1 is the first one on the list therefore, DMG1P1 = TCGA-MP-A4TE's DNA Methylation data. For group 2 the same naming convention is followed, only change is group # (e.g. DMG2P1)."
   ]
  },
  {
   "cell_type": "code",
   "execution_count": 5,
   "metadata": {},
   "outputs": [],
   "source": [
    "#Loading in all 10 patients from group 1 (smokers group)\n",
    "g1p1 = pd.read_csv('DMG1P1.txt',  delimiter = '\\t', encoding = 'utf-8')\n",
    "g1p2 = pd.read_csv('DMG1P2.txt',  delimiter = '\\t', encoding = 'utf-8')\n",
    "g1p3 = pd.read_csv('DMG1P3.txt',  delimiter = '\\t', encoding = 'utf-8')\n",
    "g1p4 = pd.read_csv('DMG1P4.txt',  delimiter = '\\t', encoding = 'utf-8')\n",
    "g1p5 = pd.read_csv('DMG1P5.txt',  delimiter = '\\t', encoding = 'utf-8')\n",
    "g1p6 = pd.read_csv('DMG1P6.txt',  delimiter = '\\t', encoding = 'utf-8')\n",
    "g1p7 = pd.read_csv('DMG1P7.txt',  delimiter = '\\t', encoding = 'utf-8')\n",
    "g1p8 = pd.read_csv('DMG1P8.txt',  delimiter = '\\t', encoding = 'utf-8')\n",
    "g1p9 = pd.read_csv('DMG1P9.txt',  delimiter = '\\t', encoding = 'utf-8')\n",
    "g1p10 = pd.read_csv('DMG1P10.txt',  delimiter = '\\t', encoding = 'utf-8')"
   ]
  },
  {
   "cell_type": "markdown",
   "metadata": {},
   "source": [
    "# DNA Methylation Data Cleaning\n",
    "## Group 1 - Patient 1"
   ]
  },
  {
   "cell_type": "code",
   "execution_count": 6,
   "metadata": {},
   "outputs": [
    {
     "data": {
      "text/html": [
       "<div>\n",
       "<style scoped>\n",
       "    .dataframe tbody tr th:only-of-type {\n",
       "        vertical-align: middle;\n",
       "    }\n",
       "\n",
       "    .dataframe tbody tr th {\n",
       "        vertical-align: top;\n",
       "    }\n",
       "\n",
       "    .dataframe thead th {\n",
       "        text-align: right;\n",
       "    }\n",
       "</style>\n",
       "<table border=\"1\" class=\"dataframe\">\n",
       "  <thead>\n",
       "    <tr style=\"text-align: right;\">\n",
       "      <th></th>\n",
       "      <th>Composite Element REF</th>\n",
       "      <th>Beta_value</th>\n",
       "      <th>Chromosome</th>\n",
       "      <th>Start</th>\n",
       "      <th>End</th>\n",
       "      <th>Gene_Symbol</th>\n",
       "      <th>Gene_Type</th>\n",
       "      <th>Transcript_ID</th>\n",
       "      <th>Position_to_TSS</th>\n",
       "      <th>CGI_Coordinate</th>\n",
       "      <th>Feature_Type</th>\n",
       "    </tr>\n",
       "  </thead>\n",
       "  <tbody>\n",
       "    <tr>\n",
       "      <th>0</th>\n",
       "      <td>cg00000029</td>\n",
       "      <td>0.228854</td>\n",
       "      <td>chr16</td>\n",
       "      <td>53434200</td>\n",
       "      <td>53434201</td>\n",
       "      <td>RBL2;RBL2;RBL2</td>\n",
       "      <td>protein_coding;protein_coding;protein_coding</td>\n",
       "      <td>ENST00000262133.9;ENST00000544405.5;ENST000005...</td>\n",
       "      <td>-221;-1420;222</td>\n",
       "      <td>CGI:chr16:53434489-53435297</td>\n",
       "      <td>N_Shore</td>\n",
       "    </tr>\n",
       "    <tr>\n",
       "      <th>1</th>\n",
       "      <td>cg00000108</td>\n",
       "      <td>NaN</td>\n",
       "      <td>chr3</td>\n",
       "      <td>37417715</td>\n",
       "      <td>37417716</td>\n",
       "      <td>C3orf35;C3orf35;C3orf35;C3orf35;C3orf35;C3orf3...</td>\n",
       "      <td>lincRNA;lincRNA;lincRNA;lincRNA;lincRNA;lincRN...</td>\n",
       "      <td>ENST00000328376.8;ENST00000332506.6;ENST000004...</td>\n",
       "      <td>18552;18552;6505;31445;18143;447;18552;18552</td>\n",
       "      <td>CGI:chr3:37451927-37453047</td>\n",
       "      <td>.</td>\n",
       "    </tr>\n",
       "    <tr>\n",
       "      <th>2</th>\n",
       "      <td>cg00000109</td>\n",
       "      <td>NaN</td>\n",
       "      <td>chr3</td>\n",
       "      <td>172198247</td>\n",
       "      <td>172198248</td>\n",
       "      <td>FNDC3B;FNDC3B;FNDC3B;FNDC3B;FNDC3B;FNDC3B</td>\n",
       "      <td>protein_coding;protein_coding;protein_coding;p...</td>\n",
       "      <td>ENST00000336824.7;ENST00000415807.5;ENST000004...</td>\n",
       "      <td>157692;158618;151333;71272;158587;71273</td>\n",
       "      <td>CGI:chr3:172039703-172040934</td>\n",
       "      <td>.</td>\n",
       "    </tr>\n",
       "    <tr>\n",
       "      <th>3</th>\n",
       "      <td>cg00000165</td>\n",
       "      <td>0.599309</td>\n",
       "      <td>chr1</td>\n",
       "      <td>90729117</td>\n",
       "      <td>90729118</td>\n",
       "      <td>.</td>\n",
       "      <td>.</td>\n",
       "      <td>.</td>\n",
       "      <td>.</td>\n",
       "      <td>CGI:chr1:90724932-90727247</td>\n",
       "      <td>S_Shore</td>\n",
       "    </tr>\n",
       "    <tr>\n",
       "      <th>4</th>\n",
       "      <td>cg00000236</td>\n",
       "      <td>0.777510</td>\n",
       "      <td>chr8</td>\n",
       "      <td>42405776</td>\n",
       "      <td>42405777</td>\n",
       "      <td>VDAC3</td>\n",
       "      <td>protein_coding</td>\n",
       "      <td>ENST00000022615.7</td>\n",
       "      <td>13872</td>\n",
       "      <td>CGI:chr8:42410918-42411241</td>\n",
       "      <td>.</td>\n",
       "    </tr>\n",
       "  </tbody>\n",
       "</table>\n",
       "</div>"
      ],
      "text/plain": [
       "  Composite Element REF  Beta_value Chromosome      Start        End  \\\n",
       "0            cg00000029    0.228854      chr16   53434200   53434201   \n",
       "1            cg00000108         NaN       chr3   37417715   37417716   \n",
       "2            cg00000109         NaN       chr3  172198247  172198248   \n",
       "3            cg00000165    0.599309       chr1   90729117   90729118   \n",
       "4            cg00000236    0.777510       chr8   42405776   42405777   \n",
       "\n",
       "                                         Gene_Symbol  \\\n",
       "0                                     RBL2;RBL2;RBL2   \n",
       "1  C3orf35;C3orf35;C3orf35;C3orf35;C3orf35;C3orf3...   \n",
       "2          FNDC3B;FNDC3B;FNDC3B;FNDC3B;FNDC3B;FNDC3B   \n",
       "3                                                  .   \n",
       "4                                              VDAC3   \n",
       "\n",
       "                                           Gene_Type  \\\n",
       "0       protein_coding;protein_coding;protein_coding   \n",
       "1  lincRNA;lincRNA;lincRNA;lincRNA;lincRNA;lincRN...   \n",
       "2  protein_coding;protein_coding;protein_coding;p...   \n",
       "3                                                  .   \n",
       "4                                     protein_coding   \n",
       "\n",
       "                                       Transcript_ID  \\\n",
       "0  ENST00000262133.9;ENST00000544405.5;ENST000005...   \n",
       "1  ENST00000328376.8;ENST00000332506.6;ENST000004...   \n",
       "2  ENST00000336824.7;ENST00000415807.5;ENST000004...   \n",
       "3                                                  .   \n",
       "4                                  ENST00000022615.7   \n",
       "\n",
       "                                Position_to_TSS                CGI_Coordinate  \\\n",
       "0                                -221;-1420;222   CGI:chr16:53434489-53435297   \n",
       "1  18552;18552;6505;31445;18143;447;18552;18552    CGI:chr3:37451927-37453047   \n",
       "2       157692;158618;151333;71272;158587;71273  CGI:chr3:172039703-172040934   \n",
       "3                                             .    CGI:chr1:90724932-90727247   \n",
       "4                                         13872    CGI:chr8:42410918-42411241   \n",
       "\n",
       "  Feature_Type  \n",
       "0      N_Shore  \n",
       "1            .  \n",
       "2            .  \n",
       "3      S_Shore  \n",
       "4            .  "
      ]
     },
     "execution_count": 6,
     "metadata": {},
     "output_type": "execute_result"
    }
   ],
   "source": [
    "g1p1.head()#This is what the DNA Methylation Data for this patient looks like."
   ]
  },
  {
   "cell_type": "code",
   "execution_count": 7,
   "metadata": {},
   "outputs": [
    {
     "data": {
      "text/plain": [
       "Composite Element REF        0\n",
       "Beta_value               90207\n",
       "Chromosome                   0\n",
       "Start                        0\n",
       "End                          0\n",
       "Gene_Symbol                  0\n",
       "Gene_Type                    0\n",
       "Transcript_ID                0\n",
       "Position_to_TSS              0\n",
       "CGI_Coordinate               0\n",
       "Feature_Type                 0\n",
       "dtype: int64"
      ]
     },
     "execution_count": 7,
     "metadata": {},
     "output_type": "execute_result"
    }
   ],
   "source": [
    "g1p1.isna().sum() #Lets see how much of the data is missing and for which column."
   ]
  },
  {
   "cell_type": "markdown",
   "metadata": {},
   "source": [
    "There seems to be quite a few missing values in the Beta_value column. Lets find out what percentage of the data is missing."
   ]
  },
  {
   "cell_type": "code",
   "execution_count": 8,
   "metadata": {},
   "outputs": [
    {
     "data": {
      "text/plain": [
       "485577"
      ]
     },
     "execution_count": 8,
     "metadata": {},
     "output_type": "execute_result"
    }
   ],
   "source": [
    "len(g1p1['Beta_value']) #Total count for Beta_value. All datasets have the same total."
   ]
  },
  {
   "cell_type": "code",
   "execution_count": 9,
   "metadata": {},
   "outputs": [
    {
     "name": "stdout",
     "output_type": "stream",
     "text": [
      "18.57728022538135 %\n"
     ]
    }
   ],
   "source": [
    "print((90207 / 485577) * 100 , '%') #Percent of missing Beta_value data."
   ]
  },
  {
   "cell_type": "markdown",
   "metadata": {},
   "source": [
    "There may be a better way of handling missing values for this dataset but for now I will be removing the rows for which Beta_value is not available. Another way to handle these values would be to set them to 0, but that would not be a good idea with this type of data because it would give those rows a meaning they truly dont have. This is due to the Beta_value ranging from 0 to 1."
   ]
  },
  {
   "cell_type": "code",
   "execution_count": 10,
   "metadata": {},
   "outputs": [
    {
     "data": {
      "text/plain": [
       "Composite Element REF    0\n",
       "Beta_value               0\n",
       "Chromosome               0\n",
       "Start                    0\n",
       "End                      0\n",
       "Gene_Symbol              0\n",
       "Gene_Type                0\n",
       "Transcript_ID            0\n",
       "Position_to_TSS          0\n",
       "CGI_Coordinate           0\n",
       "Feature_Type             0\n",
       "dtype: int64"
      ]
     },
     "execution_count": 10,
     "metadata": {},
     "output_type": "execute_result"
    }
   ],
   "source": [
    "g1p1 = g1p1.dropna() #Removing rows of missing values.\n",
    "\n",
    "g1p1.isna().sum() #Checking that the data is clean and free from NAs."
   ]
  },
  {
   "cell_type": "code",
   "execution_count": 11,
   "metadata": {},
   "outputs": [
    {
     "data": {
      "text/plain": [
       "395370"
      ]
     },
     "execution_count": 11,
     "metadata": {},
     "output_type": "execute_result"
    }
   ],
   "source": [
    "len(g1p1['Beta_value']) #This is to make sure the values removed are the missing ones and nothing else."
   ]
  },
  {
   "cell_type": "code",
   "execution_count": 12,
   "metadata": {},
   "outputs": [
    {
     "data": {
      "text/html": [
       "<div>\n",
       "<style scoped>\n",
       "    .dataframe tbody tr th:only-of-type {\n",
       "        vertical-align: middle;\n",
       "    }\n",
       "\n",
       "    .dataframe tbody tr th {\n",
       "        vertical-align: top;\n",
       "    }\n",
       "\n",
       "    .dataframe thead th {\n",
       "        text-align: right;\n",
       "    }\n",
       "</style>\n",
       "<table border=\"1\" class=\"dataframe\">\n",
       "  <thead>\n",
       "    <tr style=\"text-align: right;\">\n",
       "      <th></th>\n",
       "      <th>Composite Element REF</th>\n",
       "      <th>Beta_value</th>\n",
       "      <th>Chromosome</th>\n",
       "      <th>Start</th>\n",
       "      <th>End</th>\n",
       "      <th>Gene_Symbol</th>\n",
       "      <th>Gene_Type</th>\n",
       "      <th>Transcript_ID</th>\n",
       "      <th>Position_to_TSS</th>\n",
       "      <th>CGI_Coordinate</th>\n",
       "      <th>Feature_Type</th>\n",
       "    </tr>\n",
       "  </thead>\n",
       "  <tbody>\n",
       "    <tr>\n",
       "      <th>0</th>\n",
       "      <td>cg00000029</td>\n",
       "      <td>0.228854</td>\n",
       "      <td>chr16</td>\n",
       "      <td>53434200</td>\n",
       "      <td>53434201</td>\n",
       "      <td>RBL2;RBL2;RBL2</td>\n",
       "      <td>protein_coding;protein_coding;protein_coding</td>\n",
       "      <td>ENST00000262133.9;ENST00000544405.5;ENST000005...</td>\n",
       "      <td>-221;-1420;222</td>\n",
       "      <td>CGI:chr16:53434489-53435297</td>\n",
       "      <td>N_Shore</td>\n",
       "    </tr>\n",
       "    <tr>\n",
       "      <th>3</th>\n",
       "      <td>cg00000165</td>\n",
       "      <td>0.599309</td>\n",
       "      <td>chr1</td>\n",
       "      <td>90729117</td>\n",
       "      <td>90729118</td>\n",
       "      <td>.</td>\n",
       "      <td>.</td>\n",
       "      <td>.</td>\n",
       "      <td>.</td>\n",
       "      <td>CGI:chr1:90724932-90727247</td>\n",
       "      <td>S_Shore</td>\n",
       "    </tr>\n",
       "    <tr>\n",
       "      <th>4</th>\n",
       "      <td>cg00000236</td>\n",
       "      <td>0.777510</td>\n",
       "      <td>chr8</td>\n",
       "      <td>42405776</td>\n",
       "      <td>42405777</td>\n",
       "      <td>VDAC3</td>\n",
       "      <td>protein_coding</td>\n",
       "      <td>ENST00000022615.7</td>\n",
       "      <td>13872</td>\n",
       "      <td>CGI:chr8:42410918-42411241</td>\n",
       "      <td>.</td>\n",
       "    </tr>\n",
       "    <tr>\n",
       "      <th>5</th>\n",
       "      <td>cg00000289</td>\n",
       "      <td>0.532830</td>\n",
       "      <td>chr14</td>\n",
       "      <td>68874422</td>\n",
       "      <td>68874423</td>\n",
       "      <td>ACTN1;ACTN1;ACTN1;ACTN1</td>\n",
       "      <td>protein_coding;protein_coding;protein_coding;p...</td>\n",
       "      <td>ENST00000193403.9;ENST00000394419.7;ENST000005...</td>\n",
       "      <td>105019;104818;4601;13842</td>\n",
       "      <td>CGI:chr14:68874710-68875103</td>\n",
       "      <td>N_Shore</td>\n",
       "    </tr>\n",
       "    <tr>\n",
       "      <th>6</th>\n",
       "      <td>cg00000292</td>\n",
       "      <td>0.709429</td>\n",
       "      <td>chr16</td>\n",
       "      <td>28878779</td>\n",
       "      <td>28878780</td>\n",
       "      <td>ATP2A1;ATP2A1;ATP2A1;ATP2A1;ATP2A1</td>\n",
       "      <td>protein_coding;protein_coding;protein_coding;p...</td>\n",
       "      <td>ENST00000357084.6;ENST00000395503.7;ENST000005...</td>\n",
       "      <td>373;290;-1275;-465;-83</td>\n",
       "      <td>CGI:chr16:28879633-28880547</td>\n",
       "      <td>N_Shore</td>\n",
       "    </tr>\n",
       "  </tbody>\n",
       "</table>\n",
       "</div>"
      ],
      "text/plain": [
       "  Composite Element REF  Beta_value Chromosome     Start       End  \\\n",
       "0            cg00000029    0.228854      chr16  53434200  53434201   \n",
       "3            cg00000165    0.599309       chr1  90729117  90729118   \n",
       "4            cg00000236    0.777510       chr8  42405776  42405777   \n",
       "5            cg00000289    0.532830      chr14  68874422  68874423   \n",
       "6            cg00000292    0.709429      chr16  28878779  28878780   \n",
       "\n",
       "                          Gene_Symbol  \\\n",
       "0                      RBL2;RBL2;RBL2   \n",
       "3                                   .   \n",
       "4                               VDAC3   \n",
       "5             ACTN1;ACTN1;ACTN1;ACTN1   \n",
       "6  ATP2A1;ATP2A1;ATP2A1;ATP2A1;ATP2A1   \n",
       "\n",
       "                                           Gene_Type  \\\n",
       "0       protein_coding;protein_coding;protein_coding   \n",
       "3                                                  .   \n",
       "4                                     protein_coding   \n",
       "5  protein_coding;protein_coding;protein_coding;p...   \n",
       "6  protein_coding;protein_coding;protein_coding;p...   \n",
       "\n",
       "                                       Transcript_ID  \\\n",
       "0  ENST00000262133.9;ENST00000544405.5;ENST000005...   \n",
       "3                                                  .   \n",
       "4                                  ENST00000022615.7   \n",
       "5  ENST00000193403.9;ENST00000394419.7;ENST000005...   \n",
       "6  ENST00000357084.6;ENST00000395503.7;ENST000005...   \n",
       "\n",
       "            Position_to_TSS               CGI_Coordinate Feature_Type  \n",
       "0            -221;-1420;222  CGI:chr16:53434489-53435297      N_Shore  \n",
       "3                         .   CGI:chr1:90724932-90727247      S_Shore  \n",
       "4                     13872   CGI:chr8:42410918-42411241            .  \n",
       "5  105019;104818;4601;13842  CGI:chr14:68874710-68875103      N_Shore  \n",
       "6    373;290;-1275;-465;-83  CGI:chr16:28879633-28880547      N_Shore  "
      ]
     },
     "execution_count": 12,
     "metadata": {},
     "output_type": "execute_result"
    }
   ],
   "source": [
    "g1p1.head()"
   ]
  },
  {
   "cell_type": "markdown",
   "metadata": {},
   "source": [
    "Lets do the same data cleaning as above to every patient on group 1. "
   ]
  },
  {
   "cell_type": "markdown",
   "metadata": {},
   "source": [
    "## Group 1 - Patient 2"
   ]
  },
  {
   "cell_type": "code",
   "execution_count": 11,
   "metadata": {},
   "outputs": [
    {
     "data": {
      "text/html": [
       "<div>\n",
       "<style scoped>\n",
       "    .dataframe tbody tr th:only-of-type {\n",
       "        vertical-align: middle;\n",
       "    }\n",
       "\n",
       "    .dataframe tbody tr th {\n",
       "        vertical-align: top;\n",
       "    }\n",
       "\n",
       "    .dataframe thead th {\n",
       "        text-align: right;\n",
       "    }\n",
       "</style>\n",
       "<table border=\"1\" class=\"dataframe\">\n",
       "  <thead>\n",
       "    <tr style=\"text-align: right;\">\n",
       "      <th></th>\n",
       "      <th>Composite Element REF</th>\n",
       "      <th>Beta_value</th>\n",
       "      <th>Chromosome</th>\n",
       "      <th>Start</th>\n",
       "      <th>End</th>\n",
       "      <th>Gene_Symbol</th>\n",
       "      <th>Gene_Type</th>\n",
       "      <th>Transcript_ID</th>\n",
       "      <th>Position_to_TSS</th>\n",
       "      <th>CGI_Coordinate</th>\n",
       "      <th>Feature_Type</th>\n",
       "    </tr>\n",
       "  </thead>\n",
       "  <tbody>\n",
       "    <tr>\n",
       "      <th>0</th>\n",
       "      <td>cg00000029</td>\n",
       "      <td>0.456072</td>\n",
       "      <td>chr16</td>\n",
       "      <td>53434200</td>\n",
       "      <td>53434201</td>\n",
       "      <td>RBL2;RBL2;RBL2</td>\n",
       "      <td>protein_coding;protein_coding;protein_coding</td>\n",
       "      <td>ENST00000262133.9;ENST00000544405.5;ENST000005...</td>\n",
       "      <td>-221;-1420;222</td>\n",
       "      <td>CGI:chr16:53434489-53435297</td>\n",
       "      <td>N_Shore</td>\n",
       "    </tr>\n",
       "    <tr>\n",
       "      <th>1</th>\n",
       "      <td>cg00000108</td>\n",
       "      <td>NaN</td>\n",
       "      <td>chr3</td>\n",
       "      <td>37417715</td>\n",
       "      <td>37417716</td>\n",
       "      <td>C3orf35;C3orf35;C3orf35;C3orf35;C3orf35;C3orf3...</td>\n",
       "      <td>lincRNA;lincRNA;lincRNA;lincRNA;lincRNA;lincRN...</td>\n",
       "      <td>ENST00000328376.8;ENST00000332506.6;ENST000004...</td>\n",
       "      <td>18552;18552;6505;31445;18143;447;18552;18552</td>\n",
       "      <td>CGI:chr3:37451927-37453047</td>\n",
       "      <td>.</td>\n",
       "    </tr>\n",
       "    <tr>\n",
       "      <th>2</th>\n",
       "      <td>cg00000109</td>\n",
       "      <td>NaN</td>\n",
       "      <td>chr3</td>\n",
       "      <td>172198247</td>\n",
       "      <td>172198248</td>\n",
       "      <td>FNDC3B;FNDC3B;FNDC3B;FNDC3B;FNDC3B;FNDC3B</td>\n",
       "      <td>protein_coding;protein_coding;protein_coding;p...</td>\n",
       "      <td>ENST00000336824.7;ENST00000415807.5;ENST000004...</td>\n",
       "      <td>157692;158618;151333;71272;158587;71273</td>\n",
       "      <td>CGI:chr3:172039703-172040934</td>\n",
       "      <td>.</td>\n",
       "    </tr>\n",
       "    <tr>\n",
       "      <th>3</th>\n",
       "      <td>cg00000165</td>\n",
       "      <td>0.456042</td>\n",
       "      <td>chr1</td>\n",
       "      <td>90729117</td>\n",
       "      <td>90729118</td>\n",
       "      <td>.</td>\n",
       "      <td>.</td>\n",
       "      <td>.</td>\n",
       "      <td>.</td>\n",
       "      <td>CGI:chr1:90724932-90727247</td>\n",
       "      <td>S_Shore</td>\n",
       "    </tr>\n",
       "    <tr>\n",
       "      <th>4</th>\n",
       "      <td>cg00000236</td>\n",
       "      <td>0.832880</td>\n",
       "      <td>chr8</td>\n",
       "      <td>42405776</td>\n",
       "      <td>42405777</td>\n",
       "      <td>VDAC3</td>\n",
       "      <td>protein_coding</td>\n",
       "      <td>ENST00000022615.7</td>\n",
       "      <td>13872</td>\n",
       "      <td>CGI:chr8:42410918-42411241</td>\n",
       "      <td>.</td>\n",
       "    </tr>\n",
       "  </tbody>\n",
       "</table>\n",
       "</div>"
      ],
      "text/plain": [
       "  Composite Element REF  Beta_value Chromosome      Start        End  \\\n",
       "0            cg00000029    0.456072      chr16   53434200   53434201   \n",
       "1            cg00000108         NaN       chr3   37417715   37417716   \n",
       "2            cg00000109         NaN       chr3  172198247  172198248   \n",
       "3            cg00000165    0.456042       chr1   90729117   90729118   \n",
       "4            cg00000236    0.832880       chr8   42405776   42405777   \n",
       "\n",
       "                                         Gene_Symbol  \\\n",
       "0                                     RBL2;RBL2;RBL2   \n",
       "1  C3orf35;C3orf35;C3orf35;C3orf35;C3orf35;C3orf3...   \n",
       "2          FNDC3B;FNDC3B;FNDC3B;FNDC3B;FNDC3B;FNDC3B   \n",
       "3                                                  .   \n",
       "4                                              VDAC3   \n",
       "\n",
       "                                           Gene_Type  \\\n",
       "0       protein_coding;protein_coding;protein_coding   \n",
       "1  lincRNA;lincRNA;lincRNA;lincRNA;lincRNA;lincRN...   \n",
       "2  protein_coding;protein_coding;protein_coding;p...   \n",
       "3                                                  .   \n",
       "4                                     protein_coding   \n",
       "\n",
       "                                       Transcript_ID  \\\n",
       "0  ENST00000262133.9;ENST00000544405.5;ENST000005...   \n",
       "1  ENST00000328376.8;ENST00000332506.6;ENST000004...   \n",
       "2  ENST00000336824.7;ENST00000415807.5;ENST000004...   \n",
       "3                                                  .   \n",
       "4                                  ENST00000022615.7   \n",
       "\n",
       "                                Position_to_TSS                CGI_Coordinate  \\\n",
       "0                                -221;-1420;222   CGI:chr16:53434489-53435297   \n",
       "1  18552;18552;6505;31445;18143;447;18552;18552    CGI:chr3:37451927-37453047   \n",
       "2       157692;158618;151333;71272;158587;71273  CGI:chr3:172039703-172040934   \n",
       "3                                             .    CGI:chr1:90724932-90727247   \n",
       "4                                         13872    CGI:chr8:42410918-42411241   \n",
       "\n",
       "  Feature_Type  \n",
       "0      N_Shore  \n",
       "1            .  \n",
       "2            .  \n",
       "3      S_Shore  \n",
       "4            .  "
      ]
     },
     "execution_count": 11,
     "metadata": {},
     "output_type": "execute_result"
    }
   ],
   "source": [
    "g1p2.head() #Lets see the data."
   ]
  },
  {
   "cell_type": "code",
   "execution_count": 12,
   "metadata": {},
   "outputs": [
    {
     "data": {
      "text/plain": [
       "Composite Element REF        0\n",
       "Beta_value               90488\n",
       "Chromosome                   0\n",
       "Start                        0\n",
       "End                          0\n",
       "Gene_Symbol                  0\n",
       "Gene_Type                    0\n",
       "Transcript_ID                0\n",
       "Position_to_TSS              0\n",
       "CGI_Coordinate               0\n",
       "Feature_Type                 0\n",
       "dtype: int64"
      ]
     },
     "execution_count": 12,
     "metadata": {},
     "output_type": "execute_result"
    }
   ],
   "source": [
    "g1p2.isna().sum() #Total sum of all missing values for every column."
   ]
  },
  {
   "cell_type": "code",
   "execution_count": 13,
   "metadata": {},
   "outputs": [
    {
     "data": {
      "text/plain": [
       "Composite Element REF    0\n",
       "Beta_value               0\n",
       "Chromosome               0\n",
       "Start                    0\n",
       "End                      0\n",
       "Gene_Symbol              0\n",
       "Gene_Type                0\n",
       "Transcript_ID            0\n",
       "Position_to_TSS          0\n",
       "CGI_Coordinate           0\n",
       "Feature_Type             0\n",
       "dtype: int64"
      ]
     },
     "execution_count": 13,
     "metadata": {},
     "output_type": "execute_result"
    }
   ],
   "source": [
    "g1p2 = g1p2.dropna() #Removing rows of missing values.\n",
    "\n",
    "g1p2.isna().sum() #Checking that the data is clean and free from NAs."
   ]
  },
  {
   "cell_type": "markdown",
   "metadata": {},
   "source": [
    "There seems to be a trend amongst the mising values. Perhaps all datasets have approximately the same value missing from the same column? If so, we can skip a few steps and go straight to removal of missing values."
   ]
  },
  {
   "cell_type": "markdown",
   "metadata": {},
   "source": [
    "## Group 1 - Patient 3"
   ]
  },
  {
   "cell_type": "code",
   "execution_count": 14,
   "metadata": {},
   "outputs": [
    {
     "data": {
      "text/plain": [
       "Composite Element REF        0\n",
       "Beta_value               89549\n",
       "Chromosome                   0\n",
       "Start                        0\n",
       "End                          0\n",
       "Gene_Symbol                  0\n",
       "Gene_Type                    0\n",
       "Transcript_ID                0\n",
       "Position_to_TSS              0\n",
       "CGI_Coordinate               0\n",
       "Feature_Type                 0\n",
       "dtype: int64"
      ]
     },
     "execution_count": 14,
     "metadata": {},
     "output_type": "execute_result"
    }
   ],
   "source": [
    "g1p3.isna().sum() #Total sum of all missing values for every column."
   ]
  },
  {
   "cell_type": "code",
   "execution_count": 15,
   "metadata": {},
   "outputs": [
    {
     "data": {
      "text/plain": [
       "Composite Element REF    0\n",
       "Beta_value               0\n",
       "Chromosome               0\n",
       "Start                    0\n",
       "End                      0\n",
       "Gene_Symbol              0\n",
       "Gene_Type                0\n",
       "Transcript_ID            0\n",
       "Position_to_TSS          0\n",
       "CGI_Coordinate           0\n",
       "Feature_Type             0\n",
       "dtype: int64"
      ]
     },
     "execution_count": 15,
     "metadata": {},
     "output_type": "execute_result"
    }
   ],
   "source": [
    "g1p3 = g1p3.dropna() #Removing rows of missing values.\n",
    "\n",
    "g1p3.isna().sum() #Checking that the data is clean and free from NAs."
   ]
  },
  {
   "cell_type": "markdown",
   "metadata": {},
   "source": [
    "## Group 1 - Patient 4"
   ]
  },
  {
   "cell_type": "code",
   "execution_count": 16,
   "metadata": {},
   "outputs": [
    {
     "data": {
      "text/plain": [
       "Composite Element REF        0\n",
       "Beta_value               90316\n",
       "Chromosome                   0\n",
       "Start                        0\n",
       "End                          0\n",
       "Gene_Symbol                  0\n",
       "Gene_Type                    0\n",
       "Transcript_ID                0\n",
       "Position_to_TSS              0\n",
       "CGI_Coordinate               0\n",
       "Feature_Type                 0\n",
       "dtype: int64"
      ]
     },
     "execution_count": 16,
     "metadata": {},
     "output_type": "execute_result"
    }
   ],
   "source": [
    "g1p4.isna().sum() #Total sum of all missing values for every column."
   ]
  },
  {
   "cell_type": "code",
   "execution_count": 17,
   "metadata": {},
   "outputs": [
    {
     "data": {
      "text/plain": [
       "Composite Element REF    0\n",
       "Beta_value               0\n",
       "Chromosome               0\n",
       "Start                    0\n",
       "End                      0\n",
       "Gene_Symbol              0\n",
       "Gene_Type                0\n",
       "Transcript_ID            0\n",
       "Position_to_TSS          0\n",
       "CGI_Coordinate           0\n",
       "Feature_Type             0\n",
       "dtype: int64"
      ]
     },
     "execution_count": 17,
     "metadata": {},
     "output_type": "execute_result"
    }
   ],
   "source": [
    "g1p4 = g1p4.dropna() #Removing rows of missing values.\n",
    "\n",
    "g1p4.isna().sum() #Checking that the data is clean and free from NAs."
   ]
  },
  {
   "cell_type": "markdown",
   "metadata": {},
   "source": [
    "## Group 1 - Patient 5"
   ]
  },
  {
   "cell_type": "code",
   "execution_count": 18,
   "metadata": {},
   "outputs": [
    {
     "data": {
      "text/plain": [
       "Composite Element REF        0\n",
       "Beta_value               89917\n",
       "Chromosome                   0\n",
       "Start                        0\n",
       "End                          0\n",
       "Gene_Symbol                  0\n",
       "Gene_Type                    0\n",
       "Transcript_ID                0\n",
       "Position_to_TSS              0\n",
       "CGI_Coordinate               0\n",
       "Feature_Type                 0\n",
       "dtype: int64"
      ]
     },
     "execution_count": 18,
     "metadata": {},
     "output_type": "execute_result"
    }
   ],
   "source": [
    "g1p5.isna().sum() #Total sum of all missing values for every column."
   ]
  },
  {
   "cell_type": "code",
   "execution_count": 19,
   "metadata": {},
   "outputs": [
    {
     "data": {
      "text/plain": [
       "Composite Element REF    0\n",
       "Beta_value               0\n",
       "Chromosome               0\n",
       "Start                    0\n",
       "End                      0\n",
       "Gene_Symbol              0\n",
       "Gene_Type                0\n",
       "Transcript_ID            0\n",
       "Position_to_TSS          0\n",
       "CGI_Coordinate           0\n",
       "Feature_Type             0\n",
       "dtype: int64"
      ]
     },
     "execution_count": 19,
     "metadata": {},
     "output_type": "execute_result"
    }
   ],
   "source": [
    "g1p5 = g1p5.dropna() #Removing rows of missing values.\n",
    "\n",
    "g1p5.isna().sum() #Checking that the data is clean and free from NAs."
   ]
  },
  {
   "cell_type": "markdown",
   "metadata": {},
   "source": [
    "## Group 1 - Patient 6"
   ]
  },
  {
   "cell_type": "code",
   "execution_count": 20,
   "metadata": {},
   "outputs": [
    {
     "data": {
      "text/plain": [
       "Composite Element REF        0\n",
       "Beta_value               89748\n",
       "Chromosome                   0\n",
       "Start                        0\n",
       "End                          0\n",
       "Gene_Symbol                  0\n",
       "Gene_Type                    0\n",
       "Transcript_ID                0\n",
       "Position_to_TSS              0\n",
       "CGI_Coordinate               0\n",
       "Feature_Type                 0\n",
       "dtype: int64"
      ]
     },
     "execution_count": 20,
     "metadata": {},
     "output_type": "execute_result"
    }
   ],
   "source": [
    "g1p6.isna().sum() #Total sum of all missing values for every column."
   ]
  },
  {
   "cell_type": "code",
   "execution_count": 21,
   "metadata": {},
   "outputs": [
    {
     "data": {
      "text/plain": [
       "Composite Element REF    0\n",
       "Beta_value               0\n",
       "Chromosome               0\n",
       "Start                    0\n",
       "End                      0\n",
       "Gene_Symbol              0\n",
       "Gene_Type                0\n",
       "Transcript_ID            0\n",
       "Position_to_TSS          0\n",
       "CGI_Coordinate           0\n",
       "Feature_Type             0\n",
       "dtype: int64"
      ]
     },
     "execution_count": 21,
     "metadata": {},
     "output_type": "execute_result"
    }
   ],
   "source": [
    "g1p6 = g1p6.dropna() #Removing rows of missing values.\n",
    "\n",
    "g1p6.isna().sum() #Checking that the data is clean and free from NAs."
   ]
  },
  {
   "cell_type": "markdown",
   "metadata": {},
   "source": [
    "## Group 1 - Patient 7"
   ]
  },
  {
   "cell_type": "code",
   "execution_count": 22,
   "metadata": {},
   "outputs": [
    {
     "data": {
      "text/plain": [
       "Composite Element REF        0\n",
       "Beta_value               89811\n",
       "Chromosome                   0\n",
       "Start                        0\n",
       "End                          0\n",
       "Gene_Symbol                  0\n",
       "Gene_Type                    0\n",
       "Transcript_ID                0\n",
       "Position_to_TSS              0\n",
       "CGI_Coordinate               0\n",
       "Feature_Type                 0\n",
       "dtype: int64"
      ]
     },
     "execution_count": 22,
     "metadata": {},
     "output_type": "execute_result"
    }
   ],
   "source": [
    "g1p7.isna().sum() #Total sum of all missing values for every column."
   ]
  },
  {
   "cell_type": "code",
   "execution_count": 23,
   "metadata": {},
   "outputs": [
    {
     "data": {
      "text/plain": [
       "Composite Element REF    0\n",
       "Beta_value               0\n",
       "Chromosome               0\n",
       "Start                    0\n",
       "End                      0\n",
       "Gene_Symbol              0\n",
       "Gene_Type                0\n",
       "Transcript_ID            0\n",
       "Position_to_TSS          0\n",
       "CGI_Coordinate           0\n",
       "Feature_Type             0\n",
       "dtype: int64"
      ]
     },
     "execution_count": 23,
     "metadata": {},
     "output_type": "execute_result"
    }
   ],
   "source": [
    "g1p7 = g1p7.dropna() #Removing rows of missing values.\n",
    "\n",
    "g1p7.isna().sum() #Checking that the data is clean and free from NAs."
   ]
  },
  {
   "cell_type": "markdown",
   "metadata": {},
   "source": [
    "## Group 1 - Patient 8"
   ]
  },
  {
   "cell_type": "code",
   "execution_count": 24,
   "metadata": {},
   "outputs": [
    {
     "data": {
      "text/plain": [
       "Composite Element REF        0\n",
       "Beta_value               89814\n",
       "Chromosome                   0\n",
       "Start                        0\n",
       "End                          0\n",
       "Gene_Symbol                  0\n",
       "Gene_Type                    0\n",
       "Transcript_ID                0\n",
       "Position_to_TSS              0\n",
       "CGI_Coordinate               0\n",
       "Feature_Type                 0\n",
       "dtype: int64"
      ]
     },
     "execution_count": 24,
     "metadata": {},
     "output_type": "execute_result"
    }
   ],
   "source": [
    "g1p8.isna().sum() #Total sum of all missing values for every column."
   ]
  },
  {
   "cell_type": "code",
   "execution_count": 25,
   "metadata": {},
   "outputs": [
    {
     "data": {
      "text/plain": [
       "Composite Element REF    0\n",
       "Beta_value               0\n",
       "Chromosome               0\n",
       "Start                    0\n",
       "End                      0\n",
       "Gene_Symbol              0\n",
       "Gene_Type                0\n",
       "Transcript_ID            0\n",
       "Position_to_TSS          0\n",
       "CGI_Coordinate           0\n",
       "Feature_Type             0\n",
       "dtype: int64"
      ]
     },
     "execution_count": 25,
     "metadata": {},
     "output_type": "execute_result"
    }
   ],
   "source": [
    "g1p8 = g1p8.dropna() #Removing rows of missing values.\n",
    "\n",
    "g1p8.isna().sum() #Checking that the data is clean and free from NAs."
   ]
  },
  {
   "cell_type": "markdown",
   "metadata": {},
   "source": [
    "## Group 1 - Patient 9"
   ]
  },
  {
   "cell_type": "code",
   "execution_count": 26,
   "metadata": {},
   "outputs": [
    {
     "data": {
      "text/plain": [
       "Composite Element REF        0\n",
       "Beta_value               91159\n",
       "Chromosome                   0\n",
       "Start                        0\n",
       "End                          0\n",
       "Gene_Symbol                  0\n",
       "Gene_Type                    0\n",
       "Transcript_ID                0\n",
       "Position_to_TSS              0\n",
       "CGI_Coordinate               0\n",
       "Feature_Type                 0\n",
       "dtype: int64"
      ]
     },
     "execution_count": 26,
     "metadata": {},
     "output_type": "execute_result"
    }
   ],
   "source": [
    "g1p9.isna().sum() #Total sum of all missing values for every column."
   ]
  },
  {
   "cell_type": "code",
   "execution_count": 27,
   "metadata": {},
   "outputs": [
    {
     "data": {
      "text/plain": [
       "Composite Element REF    0\n",
       "Beta_value               0\n",
       "Chromosome               0\n",
       "Start                    0\n",
       "End                      0\n",
       "Gene_Symbol              0\n",
       "Gene_Type                0\n",
       "Transcript_ID            0\n",
       "Position_to_TSS          0\n",
       "CGI_Coordinate           0\n",
       "Feature_Type             0\n",
       "dtype: int64"
      ]
     },
     "execution_count": 27,
     "metadata": {},
     "output_type": "execute_result"
    }
   ],
   "source": [
    "g1p9 = g1p9.dropna() #Removing rows of missing values.\n",
    "\n",
    "g1p9.isna().sum() #Checking that the data is clean and free from NAs."
   ]
  },
  {
   "cell_type": "markdown",
   "metadata": {},
   "source": [
    "## Group 1 - Patient 10"
   ]
  },
  {
   "cell_type": "code",
   "execution_count": 28,
   "metadata": {},
   "outputs": [
    {
     "data": {
      "text/plain": [
       "Composite Element REF        0\n",
       "Beta_value               90313\n",
       "Chromosome                   0\n",
       "Start                        0\n",
       "End                          0\n",
       "Gene_Symbol                  0\n",
       "Gene_Type                    0\n",
       "Transcript_ID                0\n",
       "Position_to_TSS              0\n",
       "CGI_Coordinate               0\n",
       "Feature_Type                 0\n",
       "dtype: int64"
      ]
     },
     "execution_count": 28,
     "metadata": {},
     "output_type": "execute_result"
    }
   ],
   "source": [
    "g1p10.isna().sum() #Total sum of all missing values for every column."
   ]
  },
  {
   "cell_type": "code",
   "execution_count": 29,
   "metadata": {},
   "outputs": [
    {
     "data": {
      "text/plain": [
       "Composite Element REF    0\n",
       "Beta_value               0\n",
       "Chromosome               0\n",
       "Start                    0\n",
       "End                      0\n",
       "Gene_Symbol              0\n",
       "Gene_Type                0\n",
       "Transcript_ID            0\n",
       "Position_to_TSS          0\n",
       "CGI_Coordinate           0\n",
       "Feature_Type             0\n",
       "dtype: int64"
      ]
     },
     "execution_count": 29,
     "metadata": {},
     "output_type": "execute_result"
    }
   ],
   "source": [
    "g1p10 = g1p10.dropna() #Removing rows of missing values.\n",
    "\n",
    "g1p10.isna().sum() #Checking that the data is clean and free from NAs."
   ]
  },
  {
   "cell_type": "markdown",
   "metadata": {},
   "source": [
    "# Download All Clean Files:"
   ]
  },
  {
   "cell_type": "markdown",
   "metadata": {},
   "source": [
    "Lets download all the patient's clean datasets."
   ]
  },
  {
   "cell_type": "code",
   "execution_count": 30,
   "metadata": {},
   "outputs": [],
   "source": [
    "g1p1.to_csv('g1p1.csv')\n",
    "g1p2.to_csv('g1p2.csv')\n",
    "g1p3.to_csv('g1p3.csv')\n",
    "g1p4.to_csv('g1p4.csv')\n",
    "g1p5.to_csv('g1p5.csv')\n",
    "g1p6.to_csv('g1p6.csv')\n",
    "g1p7.to_csv('g1p7.csv')\n",
    "g1p8.to_csv('g1p8.csv')\n",
    "g1p9.to_csv('g1p9.csv')\n",
    "g1p10.to_csv('g1p10.csv')"
   ]
  },
  {
   "cell_type": "markdown",
   "metadata": {},
   "source": [
    "Now that all DNA Methylation data for every patient on group 1 is clean, I will use it to perform exploratory data analysis in part 4."
   ]
  }
 ],
 "metadata": {
  "kernelspec": {
   "display_name": "Python 3",
   "language": "python",
   "name": "python3"
  },
  "language_info": {
   "codemirror_mode": {
    "name": "ipython",
    "version": 3
   },
   "file_extension": ".py",
   "mimetype": "text/x-python",
   "name": "python",
   "nbconvert_exporter": "python",
   "pygments_lexer": "ipython3",
   "version": "3.7.3"
  }
 },
 "nbformat": 4,
 "nbformat_minor": 2
}
